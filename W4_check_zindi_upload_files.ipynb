{
 "cells": [
  {
   "cell_type": "code",
   "execution_count": 1,
   "id": "167297f6",
   "metadata": {},
   "outputs": [],
   "source": [
    "import pandas as pd\n"
   ]
  },
  {
   "cell_type": "code",
   "execution_count": 2,
   "id": "24168115",
   "metadata": {},
   "outputs": [],
   "source": [
    "import pandas as pd\n",
    "\n",
    "def compare_submission_files(csv1_path, csv2_path):\n",
    "    \"\"\"\n",
    "    Vergleicht zwei CSV-Dateien hinsichtlich:\n",
    "    - Anzahl der Zeilen\n",
    "    - Reihenfolge der Spalte 'client_id'\n",
    "    - Fehlende Werte in der Spalte 'target' (nur wenn beide Dateien diese Spalte enthalten)\n",
    "\n",
    "    Parameter:\n",
    "    - csv1_path: Pfad zur ersten CSV-Datei\n",
    "    - csv2_path: Pfad zur zweiten CSV-Datei\n",
    "    \"\"\"\n",
    "    df1 = pd.read_csv(csv1_path)\n",
    "    df2 = pd.read_csv(csv2_path)\n",
    "\n",
    "    print(\"\\n--- Vergleich der Dateistruktur ---\")\n",
    "    # Zeilenanzahl vergleichen\n",
    "    if len(df1) != len(df2):\n",
    "        print(f\"❌ Unterschiedliche Zeilenanzahl: {len(df1)} vs. {len(df2)}\")\n",
    "    else:\n",
    "        print(f\"✅ Gleiche Anzahl an Zeilen: {len(df1)}\")\n",
    "\n",
    "    # Spalte 'client_id' prüfen\n",
    "    if \"client_id\" not in df1.columns or \"client_id\" not in df2.columns:\n",
    "        print(\"❌ 'client_id' muss in beiden Dateien vorhanden sein.\")\n",
    "        return\n",
    "\n",
    "    # Reihenfolge der client_id prüfen\n",
    "    if df1[\"client_id\"].equals(df2[\"client_id\"]):\n",
    "        print(\"✅ 'client_id'-Reihenfolge identisch.\")\n",
    "    else:\n",
    "        print(\"❌ Unterschiedliche Reihenfolge oder Werte in 'client_id'.\")\n",
    "        diffs = df1[\"client_id\"] != df2[\"client_id\"]\n",
    "        mismatches = df1.loc[diffs, [\"client_id\"]].copy()\n",
    "        mismatches[\"client_id_file2\"] = df2.loc[diffs, \"client_id\"]\n",
    "        print(\"\\n🔍 Erste Abweichungen in 'client_id':\")\n",
    "        print(mismatches.head())\n",
    "\n",
    "    print(\"\\n--- Überprüfung auf fehlende Werte in 'target' ---\")\n",
    "    if \"target\" in df1.columns and \"target\" in df2.columns:\n",
    "        missing1 = df1[\"target\"].isna().sum()\n",
    "        missing2 = df2[\"target\"].isna().sum()\n",
    "\n",
    "        if missing1 == 0:\n",
    "            print(\"✅ Datei 1: Keine fehlenden Werte in 'target'\")\n",
    "        else:\n",
    "            print(f\"❌ Datei 1: {missing1} fehlende Werte in 'target'\")\n",
    "\n",
    "        if missing2 == 0:\n",
    "            print(\"✅ Datei 2: Keine fehlenden Werte in 'target'\")\n",
    "        else:\n",
    "            print(f\"❌ Datei 2: {missing2} fehlende Werte in 'target'\")\n",
    "    else:\n",
    "        print(\"ℹ️ Mindestens eine Datei enthält keine 'target'-Spalte – fehlende Werte werden nicht geprüft.\")"
   ]
  },
  {
   "cell_type": "code",
   "execution_count": 3,
   "id": "3ca8be04",
   "metadata": {},
   "outputs": [
    {
     "name": "stdout",
     "output_type": "stream",
     "text": [
      "\n",
      "--- Vergleich der Dateistruktur ---\n",
      "✅ Gleiche Anzahl an Zeilen: 58069\n",
      "✅ 'client_id'-Reihenfolge identisch.\n",
      "\n",
      "--- Überprüfung auf fehlende Werte in 'target' ---\n",
      "ℹ️ Mindestens eine Datei enthält keine 'target'-Spalte – fehlende Werte werden nicht geprüft.\n"
     ]
    }
   ],
   "source": [
    "compare_submission_files(\"./data/test/client_test.csv\", \"./fraud_predictions_zindi_scale_pos_weight_thr0.744.csv\")"
   ]
  },
  {
   "cell_type": "code",
   "execution_count": 4,
   "id": "2e6db5d0",
   "metadata": {},
   "outputs": [
    {
     "name": "stdout",
     "output_type": "stream",
     "text": [
      "\n",
      "--- Vergleich der Dateistruktur ---\n",
      "✅ Gleiche Anzahl an Zeilen: 58069\n",
      "✅ 'client_id'-Reihenfolge identisch.\n",
      "\n",
      "--- Überprüfung auf fehlende Werte in 'target' ---\n",
      "✅ Datei 1: Keine fehlenden Werte in 'target'\n",
      "✅ Datei 2: Keine fehlenden Werte in 'target'\n"
     ]
    }
   ],
   "source": [
    "compare_submission_files(\"./data/SampleSubmission.csv\", \"./fraud_predictions_zindi_scale_pos_weight_thr0.744.csv\")"
   ]
  },
  {
   "cell_type": "code",
   "execution_count": 5,
   "id": "cd663322",
   "metadata": {},
   "outputs": [
    {
     "name": "stdout",
     "output_type": "stream",
     "text": [
      "\n",
      "--- Vergleich der Dateistruktur ---\n",
      "✅ Gleiche Anzahl an Zeilen: 58069\n",
      "✅ 'client_id'-Reihenfolge identisch.\n",
      "\n",
      "--- Überprüfung auf fehlende Werte in 'target' ---\n",
      "✅ Datei 1: Keine fehlenden Werte in 'target'\n",
      "✅ Datei 2: Keine fehlenden Werte in 'target'\n"
     ]
    }
   ],
   "source": [
    "compare_submission_files(\"./data/SampleSubmission.csv\", \"./fraud_predictions_zindi_ADASYN_thr0.538.csv\")"
   ]
  },
  {
   "cell_type": "code",
   "execution_count": 6,
   "id": "37f916b2",
   "metadata": {},
   "outputs": [
    {
     "name": "stdout",
     "output_type": "stream",
     "text": [
      "\n",
      "--- Vergleich der Dateistruktur ---\n",
      "✅ Gleiche Anzahl an Zeilen: 58069\n",
      "✅ 'client_id'-Reihenfolge identisch.\n",
      "\n",
      "--- Überprüfung auf fehlende Werte in 'target' ---\n",
      "✅ Datei 1: Keine fehlenden Werte in 'target'\n",
      "✅ Datei 2: Keine fehlenden Werte in 'target'\n"
     ]
    }
   ],
   "source": [
    "\n",
    "compare_submission_files(\"./data/SampleSubmission.csv\", \"./fraud_predictions_zindi_SMOTE_thr0.548.csv\")"
   ]
  },
  {
   "cell_type": "code",
   "execution_count": 7,
   "id": "60cffb81",
   "metadata": {},
   "outputs": [
    {
     "name": "stdout",
     "output_type": "stream",
     "text": [
      "\n",
      "--- Vergleich der Dateistruktur ---\n",
      "✅ Gleiche Anzahl an Zeilen: 58069\n",
      "✅ 'client_id'-Reihenfolge identisch.\n",
      "\n",
      "--- Überprüfung auf fehlende Werte in 'target' ---\n",
      "✅ Datei 1: Keine fehlenden Werte in 'target'\n",
      "✅ Datei 2: Keine fehlenden Werte in 'target'\n"
     ]
    }
   ],
   "source": [
    "compare_submission_files(\"./data/SampleSubmission.csv\", \"./fraud_predictions_zindi_SMOTETomek_thr0.559.csv\")"
   ]
  }
 ],
 "metadata": {
  "kernelspec": {
   "display_name": ".venv",
   "language": "python",
   "name": "python3"
  },
  "language_info": {
   "codemirror_mode": {
    "name": "ipython",
    "version": 3
   },
   "file_extension": ".py",
   "mimetype": "text/x-python",
   "name": "python",
   "nbconvert_exporter": "python",
   "pygments_lexer": "ipython3",
   "version": "3.11.3"
  }
 },
 "nbformat": 4,
 "nbformat_minor": 5
}
