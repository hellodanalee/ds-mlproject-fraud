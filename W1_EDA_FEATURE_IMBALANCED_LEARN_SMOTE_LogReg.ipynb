{
 "cells": [
  {
   "cell_type": "code",
   "execution_count": 2,
   "id": "167297f6",
   "metadata": {},
   "outputs": [],
   "source": [
    "import pandas as pd\n",
    "from sklearn.model_selection import train_test_split\n",
    "from sklearn.preprocessing import StandardScaler\n",
    "from sklearn.linear_model import LogisticRegression\n",
    "from sklearn.metrics import classification_report, confusion_matrix\n",
    "from sklearn.datasets import make_classification\n",
    "\n",
    "from imblearn.over_sampling import RandomOverSampler, SMOTE\n",
    "from imblearn.pipeline import Pipeline  # imblearn-eigene Pipeline, kompatibel zu sklearn\n",
    "\n",
    "from w1_feature_fraud_mk import Fraud\n",
    "# Murat\n",
    "from w1_feature_fraud_mk import  left_join_on, add_invoice_frequency_features, add_counter_statue_error_occured_features\n",
    "from w1_feature_fraud_mk import add_counter_regions_features, add_region_fraud_rate_features\n",
    "from w1_feature_fraud_mk import add_median_billing_frequence_per_region, add_sdt_dev_consumption_region\n",
    "# Dana\n",
    "from w1_feature_fraud_mk import calculate_mutual_information, visualize_mutual_information, add_consump_agg"
   ]
  },
  {
   "cell_type": "code",
   "execution_count": 3,
   "id": "0c942cdd",
   "metadata": {},
   "outputs": [
    {
     "name": "stderr",
     "output_type": "stream",
     "text": [
      "/Users/muri/education/spiced/WaterMLOps/ds-mlproject-fraud/w1_feature_fraud_mk.py:58: DtypeWarning: Columns (4) have mixed types. Specify dtype option on import or set low_memory=False.\n",
      "  self._frames[str(p)] = pd.read_csv(p)\n"
     ]
    }
   ],
   "source": [
    "fraud = Fraud([\"./data/train/client_train.csv\", \"./data/train/invoice_train.csv\"], target_column=\"target\")\n",
    "client  = fraud[\"./data/train/client_train.csv\"]\n",
    "invoice = fraud[\"./data/train/invoice_train.csv\"]\n",
    "fraud_merged = left_join_on(\"client_id\", client, invoice)"
   ]
  },
  {
   "cell_type": "code",
   "execution_count": 4,
   "id": "ab99b400",
   "metadata": {},
   "outputs": [],
   "source": [
    "df_fraud_aggregated = fraud.get_target()\n",
    "df_fraud_aggregated = add_invoice_frequency_features(fraud_merged, df_fraud_aggregated)\n",
    "df_fraud_aggregated = add_counter_statue_error_occured_features(fraud_merged, df_fraud_aggregated)\n",
    "df_fraud_aggregated = add_counter_regions_features(fraud_merged, df_fraud_aggregated)\n",
    "df_fraud_aggregated = add_region_fraud_rate_features(fraud_merged, df_fraud_aggregated)\n",
    "df_fraud_aggregated = add_median_billing_frequence_per_region(fraud_merged, df_fraud_aggregated)\n",
    "df_fraud_aggregated = add_sdt_dev_consumption_region(fraud_merged, df_fraud_aggregated, postfix_consumption=\"_level_1\")\n",
    "df_fraud_aggregated = add_sdt_dev_consumption_region(fraud_merged, df_fraud_aggregated, postfix_consumption=\"_level_2\")\n",
    "df_fraud_aggregated = add_sdt_dev_consumption_region(fraud_merged, df_fraud_aggregated, postfix_consumption=\"_level_3\")\n",
    "df_fraud_aggregated = add_sdt_dev_consumption_region(fraud_merged, df_fraud_aggregated, postfix_consumption=\"_level_4\")\n",
    "df_fraud_aggregated = add_consump_agg(df_fraud_aggregated, invoice)"
   ]
  },
  {
   "cell_type": "code",
   "execution_count": 5,
   "id": "b716e7d9",
   "metadata": {},
   "outputs": [
    {
     "name": "stdout",
     "output_type": "stream",
     "text": [
      "                                        column  num_missing  pct_missing   \n",
      "0                                    client_id            0     0.000000  \\\n",
      "1                                       target            0     0.000000   \n",
      "2                     f_invoive_date_diff_days         4212     3.108648   \n",
      "3                 f_invoive_date_median_months         4212     3.108648   \n",
      "4                  f_invoive_date_median_years         4212     3.108648   \n",
      "5               f_counter_statue_error_occured            0     0.000000   \n",
      "6                            f_counter_regions            0     0.000000   \n",
      "7                          f_region_fraud_rate            0     0.000000   \n",
      "8        f_region_median_billing_frequence_per            2     0.001476   \n",
      "9   f_region_std_deviation_consumption_level_1            0     0.000000   \n",
      "10  f_region_std_deviation_consumption_level_2            0     0.000000   \n",
      "11  f_region_std_deviation_consumption_level_3            0     0.000000   \n",
      "12  f_region_std_deviation_consumption_level_4            0     0.000000   \n",
      "13                    consommation_level_1_min            0     0.000000   \n",
      "14                    consommation_level_1_max            0     0.000000   \n",
      "15                    consommation_level_1_std         4212     3.108648   \n",
      "16                   consommation_level_1_mean            0     0.000000   \n",
      "17                    consommation_level_2_min            0     0.000000   \n",
      "18                    consommation_level_2_max            0     0.000000   \n",
      "19                    consommation_level_2_std         4212     3.108648   \n",
      "20                   consommation_level_2_mean            0     0.000000   \n",
      "21                    consommation_level_3_min            0     0.000000   \n",
      "22                    consommation_level_3_max            0     0.000000   \n",
      "23                    consommation_level_3_std         4212     3.108648   \n",
      "24                   consommation_level_3_mean            0     0.000000   \n",
      "25                    consommation_level_4_min            0     0.000000   \n",
      "26                    consommation_level_4_max            0     0.000000   \n",
      "27                    consommation_level_4_std         4212     3.108648   \n",
      "28                   consommation_level_4_mean            0     0.000000   \n",
      "29                            f_index_diff_min            0     0.000000   \n",
      "30                            f_index_diff_max            0     0.000000   \n",
      "31                            f_index_diff_std         4212     3.108648   \n",
      "32                           f_index_diff_mean            0     0.000000   \n",
      "33                     f_total_consumption_min            0     0.000000   \n",
      "34                     f_total_consumption_max            0     0.000000   \n",
      "35                     f_total_consumption_std         4212     3.108648   \n",
      "36                    f_total_consumption_mean            0     0.000000   \n",
      "\n",
      "    has_missing  \n",
      "0         False  \n",
      "1         False  \n",
      "2          True  \n",
      "3          True  \n",
      "4          True  \n",
      "5         False  \n",
      "6         False  \n",
      "7         False  \n",
      "8          True  \n",
      "9         False  \n",
      "10        False  \n",
      "11        False  \n",
      "12        False  \n",
      "13        False  \n",
      "14        False  \n",
      "15         True  \n",
      "16        False  \n",
      "17        False  \n",
      "18        False  \n",
      "19         True  \n",
      "20        False  \n",
      "21        False  \n",
      "22        False  \n",
      "23         True  \n",
      "24        False  \n",
      "25        False  \n",
      "26        False  \n",
      "27         True  \n",
      "28        False  \n",
      "29        False  \n",
      "30        False  \n",
      "31         True  \n",
      "32        False  \n",
      "33        False  \n",
      "34        False  \n",
      "35         True  \n",
      "36        False  \n"
     ]
    }
   ],
   "source": [
    "total = len(df_fraud_aggregated)\n",
    "report = (\n",
    "    pd.DataFrame({\n",
    "    'column': df_fraud_aggregated.columns,\n",
    "        'num_missing': df_fraud_aggregated.isna().sum().values\n",
    "    })\n",
    "    .assign(\n",
    "        pct_missing=lambda d: d['num_missing'] / total * 100,\n",
    "        has_missing=lambda d: d['num_missing'] > 0\n",
    "    )\n",
    ")\n",
    "print (report)"
   ]
  },
  {
   "cell_type": "code",
   "execution_count": 7,
   "id": "fa096155",
   "metadata": {},
   "outputs": [
    {
     "name": "stdout",
     "output_type": "stream",
     "text": [
      "Confusion Matrix:\n",
      "[[28087 10291]\n",
      " [ 1058  1212]]\n",
      "              precision    recall  f1-score   support\n",
      "\n",
      "         0.0       0.96      0.73      0.83     38378\n",
      "         1.0       0.11      0.53      0.18      2270\n",
      "\n",
      "    accuracy                           0.72     40648\n",
      "   macro avg       0.53      0.63      0.50     40648\n",
      "weighted avg       0.92      0.72      0.80     40648\n",
      "\n"
     ]
    },
    {
     "name": "stderr",
     "output_type": "stream",
     "text": [
      "/Users/muri/education/spiced/WaterMLOps/ds-mlproject-fraud/.venv/lib/python3.11/site-packages/sklearn/svm/_base.py:1249: ConvergenceWarning: Liblinear failed to converge, increase the number of iterations.\n",
      "  warnings.warn(\n"
     ]
    }
   ],
   "source": [
    "X = df_fraud_aggregated.drop(columns=[\"target\", \"client_id\"])\n",
    "X.fillna(0, inplace=True)  \n",
    "y = df_fraud_aggregated[\"target\"]\n",
    "\n",
    "X_train, X_test, y_train, y_test = train_test_split(\n",
    "    X, y, test_size=0.3, stratify=y, random_state=42\n",
    ")\n",
    "\n",
    "pipeline = Pipeline([\n",
    "    ('smote', SMOTE(random_state=42, sampling_strategy='auto')),\n",
    "    ('clf', LogisticRegression(class_weight='balanced', solver='liblinear'))\n",
    "])\n",
    "\n",
    "\n",
    "pipeline.fit(X_train, y_train)\n",
    "\n",
    "y_pred = pipeline.predict(X_test)\n",
    "print(\"Confusion Matrix:\")\n",
    "print(confusion_matrix(y_test, y_pred))\n",
    "\n",
    "print(classification_report(y_test, y_pred))"
   ]
  }
 ],
 "metadata": {
  "kernelspec": {
   "display_name": ".venv",
   "language": "python",
   "name": "python3"
  },
  "language_info": {
   "codemirror_mode": {
    "name": "ipython",
    "version": 3
   },
   "file_extension": ".py",
   "mimetype": "text/x-python",
   "name": "python",
   "nbconvert_exporter": "python",
   "pygments_lexer": "ipython3",
   "version": "3.11.3"
  }
 },
 "nbformat": 4,
 "nbformat_minor": 5
}
