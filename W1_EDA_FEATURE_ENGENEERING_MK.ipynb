{
 "cells": [
  {
   "cell_type": "code",
   "execution_count": null,
   "id": "167297f6",
   "metadata": {},
   "outputs": [],
   "source": [
    "# imports\n",
    "import pandas as pd\n",
    "\n",
    "from fraud import Fraud\n",
    "from fraud import  left_join_on, add_invoice_frequency_features, add_counter_statue_error_occured_features\n",
    "from fraud import add_counter_regions_features, add_region_fraud_rate_features\n",
    "from fraud import add_median_billing_frequence_per_region, add_sdt_dev_consumption_region"
   ]
  },
  {
   "cell_type": "markdown",
   "id": "0c4ebab1",
   "metadata": {},
   "source": [
    "[MK_notes_columns.md](./doc/MK_notes_columns.md)"
   ]
  },
  {
   "cell_type": "markdown",
   "id": "729a24e2",
   "metadata": {},
   "source": []
  },
  {
   "cell_type": "markdown",
   "id": "e2ee673e",
   "metadata": {},
   "source": [
    "### Consumption "
   ]
  },
  {
   "cell_type": "code",
   "execution_count": null,
   "id": "0c942cdd",
   "metadata": {},
   "outputs": [
    {
     "name": "stderr",
     "output_type": "stream",
     "text": [
      "/Users/muri/education/spiced/WaterMLOps/ds-mlproject-fraud/w1_feature_fraud_mk.py:55: DtypeWarning: Columns (4) have mixed types. Specify dtype option on import or set low_memory=False.\n",
      "  self._frames[str(p)] = pd.read_csv(p)\n"
     ]
    },
    {
     "data": {
      "application/vnd.microsoft.datawrangler.viewer.v0+json": {
       "columns": [
        {
         "name": "index",
         "rawType": "int64",
         "type": "integer"
        },
        {
         "name": "disrict",
         "rawType": "int64",
         "type": "integer"
        },
        {
         "name": "client_id",
         "rawType": "object",
         "type": "string"
        },
        {
         "name": "client_catg",
         "rawType": "int64",
         "type": "integer"
        },
        {
         "name": "region",
         "rawType": "int64",
         "type": "integer"
        },
        {
         "name": "creation_date",
         "rawType": "object",
         "type": "string"
        },
        {
         "name": "target",
         "rawType": "float64",
         "type": "float"
        }
       ],
       "ref": "c2107185-c52d-4328-9484-fdf973b97f5a",
       "rows": [
        [
         "0",
         "60",
         "train_Client_0",
         "11",
         "101",
         "31/12/1994",
         "0.0"
        ],
        [
         "1",
         "69",
         "train_Client_1",
         "11",
         "107",
         "29/05/2002",
         "0.0"
        ],
        [
         "2",
         "62",
         "train_Client_10",
         "11",
         "301",
         "13/03/1986",
         "0.0"
        ],
        [
         "3",
         "69",
         "train_Client_100",
         "11",
         "105",
         "11/07/1996",
         "0.0"
        ],
        [
         "4",
         "62",
         "train_Client_1000",
         "11",
         "303",
         "14/10/2014",
         "0.0"
        ]
       ],
       "shape": {
        "columns": 6,
        "rows": 5
       }
      },
      "text/html": [
       "<div>\n",
       "<style scoped>\n",
       "    .dataframe tbody tr th:only-of-type {\n",
       "        vertical-align: middle;\n",
       "    }\n",
       "\n",
       "    .dataframe tbody tr th {\n",
       "        vertical-align: top;\n",
       "    }\n",
       "\n",
       "    .dataframe thead th {\n",
       "        text-align: right;\n",
       "    }\n",
       "</style>\n",
       "<table border=\"1\" class=\"dataframe\">\n",
       "  <thead>\n",
       "    <tr style=\"text-align: right;\">\n",
       "      <th></th>\n",
       "      <th>disrict</th>\n",
       "      <th>client_id</th>\n",
       "      <th>client_catg</th>\n",
       "      <th>region</th>\n",
       "      <th>creation_date</th>\n",
       "      <th>target</th>\n",
       "    </tr>\n",
       "  </thead>\n",
       "  <tbody>\n",
       "    <tr>\n",
       "      <th>0</th>\n",
       "      <td>60</td>\n",
       "      <td>train_Client_0</td>\n",
       "      <td>11</td>\n",
       "      <td>101</td>\n",
       "      <td>31/12/1994</td>\n",
       "      <td>0.0</td>\n",
       "    </tr>\n",
       "    <tr>\n",
       "      <th>1</th>\n",
       "      <td>69</td>\n",
       "      <td>train_Client_1</td>\n",
       "      <td>11</td>\n",
       "      <td>107</td>\n",
       "      <td>29/05/2002</td>\n",
       "      <td>0.0</td>\n",
       "    </tr>\n",
       "    <tr>\n",
       "      <th>2</th>\n",
       "      <td>62</td>\n",
       "      <td>train_Client_10</td>\n",
       "      <td>11</td>\n",
       "      <td>301</td>\n",
       "      <td>13/03/1986</td>\n",
       "      <td>0.0</td>\n",
       "    </tr>\n",
       "    <tr>\n",
       "      <th>3</th>\n",
       "      <td>69</td>\n",
       "      <td>train_Client_100</td>\n",
       "      <td>11</td>\n",
       "      <td>105</td>\n",
       "      <td>11/07/1996</td>\n",
       "      <td>0.0</td>\n",
       "    </tr>\n",
       "    <tr>\n",
       "      <th>4</th>\n",
       "      <td>62</td>\n",
       "      <td>train_Client_1000</td>\n",
       "      <td>11</td>\n",
       "      <td>303</td>\n",
       "      <td>14/10/2014</td>\n",
       "      <td>0.0</td>\n",
       "    </tr>\n",
       "  </tbody>\n",
       "</table>\n",
       "</div>"
      ],
      "text/plain": [
       "   disrict          client_id  client_catg  region creation_date  target\n",
       "0       60     train_Client_0           11     101    31/12/1994     0.0\n",
       "1       69     train_Client_1           11     107    29/05/2002     0.0\n",
       "2       62    train_Client_10           11     301    13/03/1986     0.0\n",
       "3       69   train_Client_100           11     105    11/07/1996     0.0\n",
       "4       62  train_Client_1000           11     303    14/10/2014     0.0"
      ]
     },
     "execution_count": 2,
     "metadata": {},
     "output_type": "execute_result"
    }
   ],
   "source": [
    "fraud = Fraud([\"./data/train/client_train.csv\", \"./data/train/invoice_train.csv\"], target_column=\"target\")\n",
    "client  = fraud[\"./data/train/client_train.csv\"]\n",
    "invoice = fraud[\"./data/train/invoice_train.csv\"]\n",
    "fraud_merged = left_join_on(\"client_id\", client, invoice)\n",
    "\n",
    "\n",
    "\n",
    "\n",
    "client.head()"
   ]
  },
  {
   "cell_type": "code",
   "execution_count": 3,
   "id": "ab99b400",
   "metadata": {},
   "outputs": [],
   "source": [
    "df_fraud_aggregated = fraud.get_target()"
   ]
  },
  {
   "cell_type": "code",
   "execution_count": 4,
   "id": "61a717d7",
   "metadata": {},
   "outputs": [
    {
     "data": {
      "application/vnd.microsoft.datawrangler.viewer.v0+json": {
       "columns": [
        {
         "name": "index",
         "rawType": "object",
         "type": "string"
        },
        {
         "name": "0",
         "rawType": "object",
         "type": "unknown"
        }
       ],
       "ref": "04d3087b-138c-4af8-a63e-78f07d59d664",
       "rows": [
        [
         "client_id",
         "object"
        ],
        [
         "target",
         "float64"
        ]
       ],
       "shape": {
        "columns": 1,
        "rows": 2
       }
      },
      "text/plain": [
       "client_id     object\n",
       "target       float64\n",
       "dtype: object"
      ]
     },
     "execution_count": 4,
     "metadata": {},
     "output_type": "execute_result"
    }
   ],
   "source": [
    "df_fraud_aggregated.dtypes"
   ]
  },
  {
   "cell_type": "code",
   "execution_count": 5,
   "id": "a3ea58b2",
   "metadata": {},
   "outputs": [
    {
     "data": {
      "application/vnd.microsoft.datawrangler.viewer.v0+json": {
       "columns": [
        {
         "name": "index",
         "rawType": "int64",
         "type": "integer"
        },
        {
         "name": "client_id",
         "rawType": "object",
         "type": "string"
        },
        {
         "name": "target",
         "rawType": "float64",
         "type": "float"
        }
       ],
       "ref": "e709c29c-707b-454c-9210-22e71919b958",
       "rows": [
        [
         "0",
         "train_Client_0",
         "0.0"
        ],
        [
         "1",
         "train_Client_1",
         "0.0"
        ],
        [
         "2",
         "train_Client_10",
         "0.0"
        ],
        [
         "3",
         "train_Client_100",
         "0.0"
        ],
        [
         "4",
         "train_Client_1000",
         "0.0"
        ]
       ],
       "shape": {
        "columns": 2,
        "rows": 5
       }
      },
      "text/html": [
       "<div>\n",
       "<style scoped>\n",
       "    .dataframe tbody tr th:only-of-type {\n",
       "        vertical-align: middle;\n",
       "    }\n",
       "\n",
       "    .dataframe tbody tr th {\n",
       "        vertical-align: top;\n",
       "    }\n",
       "\n",
       "    .dataframe thead th {\n",
       "        text-align: right;\n",
       "    }\n",
       "</style>\n",
       "<table border=\"1\" class=\"dataframe\">\n",
       "  <thead>\n",
       "    <tr style=\"text-align: right;\">\n",
       "      <th></th>\n",
       "      <th>client_id</th>\n",
       "      <th>target</th>\n",
       "    </tr>\n",
       "  </thead>\n",
       "  <tbody>\n",
       "    <tr>\n",
       "      <th>0</th>\n",
       "      <td>train_Client_0</td>\n",
       "      <td>0.0</td>\n",
       "    </tr>\n",
       "    <tr>\n",
       "      <th>1</th>\n",
       "      <td>train_Client_1</td>\n",
       "      <td>0.0</td>\n",
       "    </tr>\n",
       "    <tr>\n",
       "      <th>2</th>\n",
       "      <td>train_Client_10</td>\n",
       "      <td>0.0</td>\n",
       "    </tr>\n",
       "    <tr>\n",
       "      <th>3</th>\n",
       "      <td>train_Client_100</td>\n",
       "      <td>0.0</td>\n",
       "    </tr>\n",
       "    <tr>\n",
       "      <th>4</th>\n",
       "      <td>train_Client_1000</td>\n",
       "      <td>0.0</td>\n",
       "    </tr>\n",
       "  </tbody>\n",
       "</table>\n",
       "</div>"
      ],
      "text/plain": [
       "           client_id  target\n",
       "0     train_Client_0     0.0\n",
       "1     train_Client_1     0.0\n",
       "2    train_Client_10     0.0\n",
       "3   train_Client_100     0.0\n",
       "4  train_Client_1000     0.0"
      ]
     },
     "execution_count": 5,
     "metadata": {},
     "output_type": "execute_result"
    }
   ],
   "source": [
    "df_fraud_aggregated.head()"
   ]
  },
  {
   "cell_type": "code",
   "execution_count": 6,
   "id": "b984cdea",
   "metadata": {},
   "outputs": [
    {
     "data": {
      "application/vnd.microsoft.datawrangler.viewer.v0+json": {
       "columns": [
        {
         "name": "index",
         "rawType": "int64",
         "type": "integer"
        },
        {
         "name": "client_id",
         "rawType": "object",
         "type": "string"
        },
        {
         "name": "invoice_date",
         "rawType": "object",
         "type": "string"
        },
        {
         "name": "tarif_type",
         "rawType": "int64",
         "type": "integer"
        },
        {
         "name": "counter_number",
         "rawType": "int64",
         "type": "integer"
        },
        {
         "name": "counter_statue",
         "rawType": "object",
         "type": "unknown"
        },
        {
         "name": "counter_code",
         "rawType": "int64",
         "type": "integer"
        },
        {
         "name": "reading_remarque",
         "rawType": "int64",
         "type": "integer"
        },
        {
         "name": "counter_coefficient",
         "rawType": "int64",
         "type": "integer"
        },
        {
         "name": "consommation_level_1",
         "rawType": "int64",
         "type": "integer"
        },
        {
         "name": "consommation_level_2",
         "rawType": "int64",
         "type": "integer"
        },
        {
         "name": "consommation_level_3",
         "rawType": "int64",
         "type": "integer"
        },
        {
         "name": "consommation_level_4",
         "rawType": "int64",
         "type": "integer"
        },
        {
         "name": "old_index",
         "rawType": "int64",
         "type": "integer"
        },
        {
         "name": "new_index",
         "rawType": "int64",
         "type": "integer"
        },
        {
         "name": "months_number",
         "rawType": "int64",
         "type": "integer"
        },
        {
         "name": "counter_type",
         "rawType": "object",
         "type": "string"
        }
       ],
       "ref": "fa8fab93-f990-4a69-aff9-3b008386eb33",
       "rows": [
        [
         "0",
         "train_Client_0",
         "2014-03-24",
         "11",
         "1335667",
         "0",
         "203",
         "8",
         "1",
         "82",
         "0",
         "0",
         "0",
         "14302",
         "14384",
         "4",
         "ELEC"
        ],
        [
         "1",
         "train_Client_0",
         "2013-03-29",
         "11",
         "1335667",
         "0",
         "203",
         "6",
         "1",
         "1200",
         "184",
         "0",
         "0",
         "12294",
         "13678",
         "4",
         "ELEC"
        ],
        [
         "2",
         "train_Client_0",
         "2015-03-23",
         "11",
         "1335667",
         "0",
         "203",
         "8",
         "1",
         "123",
         "0",
         "0",
         "0",
         "14624",
         "14747",
         "4",
         "ELEC"
        ],
        [
         "3",
         "train_Client_0",
         "2015-07-13",
         "11",
         "1335667",
         "0",
         "207",
         "8",
         "1",
         "102",
         "0",
         "0",
         "0",
         "14747",
         "14849",
         "4",
         "ELEC"
        ],
        [
         "4",
         "train_Client_0",
         "2016-11-17",
         "11",
         "1335667",
         "0",
         "207",
         "9",
         "1",
         "572",
         "0",
         "0",
         "0",
         "15066",
         "15638",
         "12",
         "ELEC"
        ]
       ],
       "shape": {
        "columns": 16,
        "rows": 5
       }
      },
      "text/html": [
       "<div>\n",
       "<style scoped>\n",
       "    .dataframe tbody tr th:only-of-type {\n",
       "        vertical-align: middle;\n",
       "    }\n",
       "\n",
       "    .dataframe tbody tr th {\n",
       "        vertical-align: top;\n",
       "    }\n",
       "\n",
       "    .dataframe thead th {\n",
       "        text-align: right;\n",
       "    }\n",
       "</style>\n",
       "<table border=\"1\" class=\"dataframe\">\n",
       "  <thead>\n",
       "    <tr style=\"text-align: right;\">\n",
       "      <th></th>\n",
       "      <th>client_id</th>\n",
       "      <th>invoice_date</th>\n",
       "      <th>tarif_type</th>\n",
       "      <th>counter_number</th>\n",
       "      <th>counter_statue</th>\n",
       "      <th>counter_code</th>\n",
       "      <th>reading_remarque</th>\n",
       "      <th>counter_coefficient</th>\n",
       "      <th>consommation_level_1</th>\n",
       "      <th>consommation_level_2</th>\n",
       "      <th>consommation_level_3</th>\n",
       "      <th>consommation_level_4</th>\n",
       "      <th>old_index</th>\n",
       "      <th>new_index</th>\n",
       "      <th>months_number</th>\n",
       "      <th>counter_type</th>\n",
       "    </tr>\n",
       "  </thead>\n",
       "  <tbody>\n",
       "    <tr>\n",
       "      <th>0</th>\n",
       "      <td>train_Client_0</td>\n",
       "      <td>2014-03-24</td>\n",
       "      <td>11</td>\n",
       "      <td>1335667</td>\n",
       "      <td>0</td>\n",
       "      <td>203</td>\n",
       "      <td>8</td>\n",
       "      <td>1</td>\n",
       "      <td>82</td>\n",
       "      <td>0</td>\n",
       "      <td>0</td>\n",
       "      <td>0</td>\n",
       "      <td>14302</td>\n",
       "      <td>14384</td>\n",
       "      <td>4</td>\n",
       "      <td>ELEC</td>\n",
       "    </tr>\n",
       "    <tr>\n",
       "      <th>1</th>\n",
       "      <td>train_Client_0</td>\n",
       "      <td>2013-03-29</td>\n",
       "      <td>11</td>\n",
       "      <td>1335667</td>\n",
       "      <td>0</td>\n",
       "      <td>203</td>\n",
       "      <td>6</td>\n",
       "      <td>1</td>\n",
       "      <td>1200</td>\n",
       "      <td>184</td>\n",
       "      <td>0</td>\n",
       "      <td>0</td>\n",
       "      <td>12294</td>\n",
       "      <td>13678</td>\n",
       "      <td>4</td>\n",
       "      <td>ELEC</td>\n",
       "    </tr>\n",
       "    <tr>\n",
       "      <th>2</th>\n",
       "      <td>train_Client_0</td>\n",
       "      <td>2015-03-23</td>\n",
       "      <td>11</td>\n",
       "      <td>1335667</td>\n",
       "      <td>0</td>\n",
       "      <td>203</td>\n",
       "      <td>8</td>\n",
       "      <td>1</td>\n",
       "      <td>123</td>\n",
       "      <td>0</td>\n",
       "      <td>0</td>\n",
       "      <td>0</td>\n",
       "      <td>14624</td>\n",
       "      <td>14747</td>\n",
       "      <td>4</td>\n",
       "      <td>ELEC</td>\n",
       "    </tr>\n",
       "    <tr>\n",
       "      <th>3</th>\n",
       "      <td>train_Client_0</td>\n",
       "      <td>2015-07-13</td>\n",
       "      <td>11</td>\n",
       "      <td>1335667</td>\n",
       "      <td>0</td>\n",
       "      <td>207</td>\n",
       "      <td>8</td>\n",
       "      <td>1</td>\n",
       "      <td>102</td>\n",
       "      <td>0</td>\n",
       "      <td>0</td>\n",
       "      <td>0</td>\n",
       "      <td>14747</td>\n",
       "      <td>14849</td>\n",
       "      <td>4</td>\n",
       "      <td>ELEC</td>\n",
       "    </tr>\n",
       "    <tr>\n",
       "      <th>4</th>\n",
       "      <td>train_Client_0</td>\n",
       "      <td>2016-11-17</td>\n",
       "      <td>11</td>\n",
       "      <td>1335667</td>\n",
       "      <td>0</td>\n",
       "      <td>207</td>\n",
       "      <td>9</td>\n",
       "      <td>1</td>\n",
       "      <td>572</td>\n",
       "      <td>0</td>\n",
       "      <td>0</td>\n",
       "      <td>0</td>\n",
       "      <td>15066</td>\n",
       "      <td>15638</td>\n",
       "      <td>12</td>\n",
       "      <td>ELEC</td>\n",
       "    </tr>\n",
       "  </tbody>\n",
       "</table>\n",
       "</div>"
      ],
      "text/plain": [
       "        client_id invoice_date  tarif_type  counter_number counter_statue   \n",
       "0  train_Client_0   2014-03-24          11         1335667              0  \\\n",
       "1  train_Client_0   2013-03-29          11         1335667              0   \n",
       "2  train_Client_0   2015-03-23          11         1335667              0   \n",
       "3  train_Client_0   2015-07-13          11         1335667              0   \n",
       "4  train_Client_0   2016-11-17          11         1335667              0   \n",
       "\n",
       "   counter_code  reading_remarque  counter_coefficient  consommation_level_1   \n",
       "0           203                 8                    1                    82  \\\n",
       "1           203                 6                    1                  1200   \n",
       "2           203                 8                    1                   123   \n",
       "3           207                 8                    1                   102   \n",
       "4           207                 9                    1                   572   \n",
       "\n",
       "   consommation_level_2  consommation_level_3  consommation_level_4   \n",
       "0                     0                     0                     0  \\\n",
       "1                   184                     0                     0   \n",
       "2                     0                     0                     0   \n",
       "3                     0                     0                     0   \n",
       "4                     0                     0                     0   \n",
       "\n",
       "   old_index  new_index  months_number counter_type  \n",
       "0      14302      14384              4         ELEC  \n",
       "1      12294      13678              4         ELEC  \n",
       "2      14624      14747              4         ELEC  \n",
       "3      14747      14849              4         ELEC  \n",
       "4      15066      15638             12         ELEC  "
      ]
     },
     "execution_count": 6,
     "metadata": {},
     "output_type": "execute_result"
    }
   ],
   "source": [
    "invoice.head()"
   ]
  },
  {
   "cell_type": "code",
   "execution_count": 7,
   "id": "27576017",
   "metadata": {},
   "outputs": [],
   "source": [
    "df_fraud_aggregated = add_invoice_frequency_features(fraud_merged, df_fraud_aggregated)"
   ]
  },
  {
   "cell_type": "code",
   "execution_count": 8,
   "id": "ab73614d",
   "metadata": {},
   "outputs": [
    {
     "data": {
      "application/vnd.microsoft.datawrangler.viewer.v0+json": {
       "columns": [
        {
         "name": "index",
         "rawType": "int64",
         "type": "integer"
        },
        {
         "name": "client_id",
         "rawType": "object",
         "type": "string"
        },
        {
         "name": "target",
         "rawType": "float64",
         "type": "float"
        },
        {
         "name": "f_invoive_date_diff_days",
         "rawType": "float64",
         "type": "float"
        },
        {
         "name": "f_invoive_date_median_months",
         "rawType": "float64",
         "type": "float"
        },
        {
         "name": "f_invoive_date_median_years",
         "rawType": "float64",
         "type": "float"
        }
       ],
       "ref": "0de54205-d7cf-4eee-8073-e16090feaab5",
       "rows": [
        [
         "0",
         "train_Client_0",
         "0.0",
         "120.5",
         "3.9586070959264124",
         "0.32991101984941823"
        ],
        [
         "1",
         "train_Client_1",
         "0.0",
         "121.5",
         "3.991458607095926",
         "0.3326488706365503"
        ],
        [
         "2",
         "train_Client_10",
         "0.0",
         "147.0",
         "4.829172141918528",
         "0.4024640657084189"
        ],
        [
         "3",
         "train_Client_100",
         "0.0",
         "121.0",
         "3.9750328515111693",
         "0.33127994524298426"
        ],
        [
         "4",
         "train_Client_1000",
         "0.0",
         "124.0",
         "4.073587385019711",
         "0.3394934976043806"
        ]
       ],
       "shape": {
        "columns": 5,
        "rows": 5
       }
      },
      "text/html": [
       "<div>\n",
       "<style scoped>\n",
       "    .dataframe tbody tr th:only-of-type {\n",
       "        vertical-align: middle;\n",
       "    }\n",
       "\n",
       "    .dataframe tbody tr th {\n",
       "        vertical-align: top;\n",
       "    }\n",
       "\n",
       "    .dataframe thead th {\n",
       "        text-align: right;\n",
       "    }\n",
       "</style>\n",
       "<table border=\"1\" class=\"dataframe\">\n",
       "  <thead>\n",
       "    <tr style=\"text-align: right;\">\n",
       "      <th></th>\n",
       "      <th>client_id</th>\n",
       "      <th>target</th>\n",
       "      <th>f_invoive_date_diff_days</th>\n",
       "      <th>f_invoive_date_median_months</th>\n",
       "      <th>f_invoive_date_median_years</th>\n",
       "    </tr>\n",
       "  </thead>\n",
       "  <tbody>\n",
       "    <tr>\n",
       "      <th>0</th>\n",
       "      <td>train_Client_0</td>\n",
       "      <td>0.0</td>\n",
       "      <td>120.5</td>\n",
       "      <td>3.958607</td>\n",
       "      <td>0.329911</td>\n",
       "    </tr>\n",
       "    <tr>\n",
       "      <th>1</th>\n",
       "      <td>train_Client_1</td>\n",
       "      <td>0.0</td>\n",
       "      <td>121.5</td>\n",
       "      <td>3.991459</td>\n",
       "      <td>0.332649</td>\n",
       "    </tr>\n",
       "    <tr>\n",
       "      <th>2</th>\n",
       "      <td>train_Client_10</td>\n",
       "      <td>0.0</td>\n",
       "      <td>147.0</td>\n",
       "      <td>4.829172</td>\n",
       "      <td>0.402464</td>\n",
       "    </tr>\n",
       "    <tr>\n",
       "      <th>3</th>\n",
       "      <td>train_Client_100</td>\n",
       "      <td>0.0</td>\n",
       "      <td>121.0</td>\n",
       "      <td>3.975033</td>\n",
       "      <td>0.331280</td>\n",
       "    </tr>\n",
       "    <tr>\n",
       "      <th>4</th>\n",
       "      <td>train_Client_1000</td>\n",
       "      <td>0.0</td>\n",
       "      <td>124.0</td>\n",
       "      <td>4.073587</td>\n",
       "      <td>0.339493</td>\n",
       "    </tr>\n",
       "  </tbody>\n",
       "</table>\n",
       "</div>"
      ],
      "text/plain": [
       "           client_id  target  f_invoive_date_diff_days   \n",
       "0     train_Client_0     0.0                     120.5  \\\n",
       "1     train_Client_1     0.0                     121.5   \n",
       "2    train_Client_10     0.0                     147.0   \n",
       "3   train_Client_100     0.0                     121.0   \n",
       "4  train_Client_1000     0.0                     124.0   \n",
       "\n",
       "   f_invoive_date_median_months  f_invoive_date_median_years  \n",
       "0                      3.958607                     0.329911  \n",
       "1                      3.991459                     0.332649  \n",
       "2                      4.829172                     0.402464  \n",
       "3                      3.975033                     0.331280  \n",
       "4                      4.073587                     0.339493  "
      ]
     },
     "execution_count": 8,
     "metadata": {},
     "output_type": "execute_result"
    }
   ],
   "source": [
    "df_fraud_aggregated.head()"
   ]
  },
  {
   "cell_type": "code",
   "execution_count": 9,
   "id": "604bae90",
   "metadata": {},
   "outputs": [
    {
     "data": {
      "application/vnd.microsoft.datawrangler.viewer.v0+json": {
       "columns": [
        {
         "name": "counter_statue",
         "rawType": "object",
         "type": "unknown"
        },
        {
         "name": "count",
         "rawType": "int64",
         "type": "integer"
        }
       ],
       "ref": "237209fb-7921-4e9c-ba7b-ca1d6b81f14a",
       "rows": [
        [
         "0",
         "4346960"
        ],
        [
         "1",
         "73496"
        ],
        [
         "0",
         "32048"
        ],
        [
         "5",
         "20495"
        ],
        [
         "4",
         "2706"
        ],
        [
         "1",
         "540"
        ],
        [
         "3",
         "258"
        ],
        [
         "5",
         "144"
        ],
        [
         "2",
         "32"
        ],
        [
         "4",
         "23"
        ],
        [
         "46",
         "14"
        ],
        [
         "A",
         "13"
        ],
        [
         "618",
         "12"
        ],
        [
         "769",
         "6"
        ],
        [
         "269375",
         "1"
        ],
        [
         "420",
         "1"
        ]
       ],
       "shape": {
        "columns": 1,
        "rows": 16
       }
      },
      "text/plain": [
       "counter_statue\n",
       "0         4346960\n",
       "1           73496\n",
       "0           32048\n",
       "5           20495\n",
       "4            2706\n",
       "1             540\n",
       "3             258\n",
       "5             144\n",
       "2              32\n",
       "4              23\n",
       "46             14\n",
       "A              13\n",
       "618            12\n",
       "769             6\n",
       "269375          1\n",
       "420             1\n",
       "Name: count, dtype: int64"
      ]
     },
     "execution_count": 9,
     "metadata": {},
     "output_type": "execute_result"
    }
   ],
   "source": [
    "fraud_merged['counter_statue'].value_counts()\n"
   ]
  },
  {
   "cell_type": "code",
   "execution_count": 10,
   "id": "06ab3472",
   "metadata": {},
   "outputs": [
    {
     "data": {
      "text/plain": [
       "<Axes: title={'center': 'Counter Statue Distribution'}, xlabel='counter_statue'>"
      ]
     },
     "execution_count": 10,
     "metadata": {},
     "output_type": "execute_result"
    },
    {
     "data": {
      "image/png": "[encoded data removed]",
      "text/plain": [
       "<Figure size 640x480 with 1 Axes>"
      ]
     },
     "metadata": {},
     "output_type": "display_data"
    }
   ],
   "source": [
    "fraud_merged['counter_statue'].value_counts().plot(kind='bar', title='Counter Statue Distribution')"
   ]
  },
  {
   "cell_type": "code",
   "execution_count": 11,
   "id": "ec7aede6",
   "metadata": {},
   "outputs": [],
   "source": [
    "df_fraud_aggregated = add_counter_statue_error_occured_features(fraud_merged, df_fraud_aggregated)"
   ]
  },
  {
   "cell_type": "code",
   "execution_count": 12,
   "id": "7776dfad",
   "metadata": {},
   "outputs": [
    {
     "data": {
      "application/vnd.microsoft.datawrangler.viewer.v0+json": {
       "columns": [
        {
         "name": "index",
         "rawType": "object",
         "type": "string"
        },
        {
         "name": "0",
         "rawType": "object",
         "type": "unknown"
        }
       ],
       "ref": "488abe34-af23-46a1-8162-a99f3741e0a2",
       "rows": [
        [
         "client_id",
         "object"
        ],
        [
         "target",
         "float64"
        ],
        [
         "f_invoive_date_diff_days",
         "float64"
        ],
        [
         "f_invoive_date_median_months",
         "float64"
        ],
        [
         "f_invoive_date_median_years",
         "float64"
        ],
        [
         "f_counter_statue_error_occured",
         "int64"
        ]
       ],
       "shape": {
        "columns": 1,
        "rows": 6
       }
      },
      "text/plain": [
       "client_id                          object\n",
       "target                            float64\n",
       "f_invoive_date_diff_days          float64\n",
       "f_invoive_date_median_months      float64\n",
       "f_invoive_date_median_years       float64\n",
       "f_counter_statue_error_occured      int64\n",
       "dtype: object"
      ]
     },
     "execution_count": 12,
     "metadata": {},
     "output_type": "execute_result"
    }
   ],
   "source": [
    "df_fraud_aggregated.dtypes"
   ]
  },
  {
   "cell_type": "code",
   "execution_count": 13,
   "id": "a3c4d472",
   "metadata": {},
   "outputs": [
    {
     "name": "stdout",
     "output_type": "stream",
     "text": [
      "f_counter_statue_error_occured\n",
      "0    91457\n",
      "1    44036\n",
      "Name: count, dtype: int64\n"
     ]
    }
   ],
   "source": [
    "print(df_fraud_aggregated['f_counter_statue_error_occured'].value_counts())"
   ]
  },
  {
   "cell_type": "code",
   "execution_count": 14,
   "id": "4d4b3f25",
   "metadata": {},
   "outputs": [],
   "source": [
    "df_fraud_aggregated = add_counter_regions_features(fraud_merged, df_fraud_aggregated)"
   ]
  },
  {
   "cell_type": "code",
   "execution_count": 15,
   "id": "103bfbe4",
   "metadata": {},
   "outputs": [
    {
     "data": {
      "application/vnd.microsoft.datawrangler.viewer.v0+json": {
       "columns": [
        {
         "name": "index",
         "rawType": "object",
         "type": "string"
        },
        {
         "name": "0",
         "rawType": "object",
         "type": "unknown"
        }
       ],
       "ref": "5ab95a99-cdb0-4bad-9c6b-c4a2d71a11fc",
       "rows": [
        [
         "client_id",
         "object"
        ],
        [
         "target",
         "float64"
        ],
        [
         "f_invoive_date_diff_days",
         "float64"
        ],
        [
         "f_invoive_date_median_months",
         "float64"
        ],
        [
         "f_invoive_date_median_years",
         "float64"
        ],
        [
         "f_counter_statue_error_occured",
         "int64"
        ],
        [
         "f_counter_regions",
         "int64"
        ]
       ],
       "shape": {
        "columns": 1,
        "rows": 7
       }
      },
      "text/plain": [
       "client_id                          object\n",
       "target                            float64\n",
       "f_invoive_date_diff_days          float64\n",
       "f_invoive_date_median_months      float64\n",
       "f_invoive_date_median_years       float64\n",
       "f_counter_statue_error_occured      int64\n",
       "f_counter_regions                   int64\n",
       "dtype: object"
      ]
     },
     "execution_count": 15,
     "metadata": {},
     "output_type": "execute_result"
    }
   ],
   "source": [
    "df_fraud_aggregated.dtypes"
   ]
  },
  {
   "cell_type": "code",
   "execution_count": 16,
   "id": "4cbc5b04",
   "metadata": {},
   "outputs": [
    {
     "name": "stdout",
     "output_type": "stream",
     "text": [
      "f_counter_regions\n",
      "0    135493\n",
      "Name: count, dtype: int64\n"
     ]
    }
   ],
   "source": [
    "print(df_fraud_aggregated['f_counter_regions'].value_counts())"
   ]
  },
  {
   "cell_type": "code",
   "execution_count": 17,
   "id": "b05d937a",
   "metadata": {},
   "outputs": [],
   "source": [
    "df_fraud_aggregated = add_region_fraud_rate_features(fraud_merged, df_fraud_aggregated)"
   ]
  },
  {
   "cell_type": "code",
   "execution_count": 18,
   "id": "08495ded",
   "metadata": {},
   "outputs": [
    {
     "data": {
      "application/vnd.microsoft.datawrangler.viewer.v0+json": {
       "columns": [
        {
         "name": "index",
         "rawType": "object",
         "type": "string"
        },
        {
         "name": "0",
         "rawType": "object",
         "type": "unknown"
        }
       ],
       "ref": "cf72d6c8-c3fc-490a-8cc7-70f5569b9bf1",
       "rows": [
        [
         "client_id",
         "object"
        ],
        [
         "target",
         "float64"
        ],
        [
         "f_invoive_date_diff_days",
         "float64"
        ],
        [
         "f_invoive_date_median_months",
         "float64"
        ],
        [
         "f_invoive_date_median_years",
         "float64"
        ],
        [
         "f_counter_statue_error_occured",
         "int64"
        ],
        [
         "f_counter_regions",
         "int64"
        ],
        [
         "f_region_fraud_rate",
         "float64"
        ]
       ],
       "shape": {
        "columns": 1,
        "rows": 8
       }
      },
      "text/plain": [
       "client_id                          object\n",
       "target                            float64\n",
       "f_invoive_date_diff_days          float64\n",
       "f_invoive_date_median_months      float64\n",
       "f_invoive_date_median_years       float64\n",
       "f_counter_statue_error_occured      int64\n",
       "f_counter_regions                   int64\n",
       "f_region_fraud_rate               float64\n",
       "dtype: object"
      ]
     },
     "execution_count": 18,
     "metadata": {},
     "output_type": "execute_result"
    }
   ],
   "source": [
    "df_fraud_aggregated.dtypes"
   ]
  },
  {
   "cell_type": "code",
   "execution_count": 19,
   "id": "d4ca2fbc",
   "metadata": {},
   "outputs": [
    {
     "name": "stdout",
     "output_type": "stream",
     "text": [
      "f_region_fraud_rate\n",
      "0.048237    33770\n",
      "0.079970    12865\n",
      "0.113643    12406\n",
      "0.087543     9998\n",
      "0.044247     9544\n",
      "0.144614     8964\n",
      "0.072045     6044\n",
      "0.083856     5982\n",
      "0.073564     4851\n",
      "0.068516     4379\n",
      "0.082663     4311\n",
      "0.092065     3828\n",
      "0.060209     3669\n",
      "0.087968     3376\n",
      "0.080720     2716\n",
      "0.101760     2076\n",
      "0.107391     2065\n",
      "0.075455     1645\n",
      "0.099969      841\n",
      "0.096770      706\n",
      "0.143067      644\n",
      "0.101396      583\n",
      "0.021073      175\n",
      "0.040837       53\n",
      "0.000000        2\n",
      "Name: count, dtype: int64\n"
     ]
    }
   ],
   "source": [
    "print(df_fraud_aggregated['f_region_fraud_rate'].value_counts())"
   ]
  },
  {
   "cell_type": "code",
   "execution_count": 20,
   "id": "b4f7c534",
   "metadata": {},
   "outputs": [
    {
     "data": {
      "application/vnd.microsoft.datawrangler.viewer.v0+json": {
       "columns": [
        {
         "name": "index",
         "rawType": "int64",
         "type": "integer"
        },
        {
         "name": "client_id",
         "rawType": "object",
         "type": "string"
        },
        {
         "name": "target",
         "rawType": "float64",
         "type": "float"
        },
        {
         "name": "f_invoive_date_diff_days",
         "rawType": "float64",
         "type": "float"
        },
        {
         "name": "f_invoive_date_median_months",
         "rawType": "float64",
         "type": "float"
        },
        {
         "name": "f_invoive_date_median_years",
         "rawType": "float64",
         "type": "float"
        },
        {
         "name": "f_counter_statue_error_occured",
         "rawType": "int64",
         "type": "integer"
        },
        {
         "name": "f_counter_regions",
         "rawType": "int64",
         "type": "integer"
        },
        {
         "name": "f_region_fraud_rate",
         "rawType": "float64",
         "type": "float"
        }
       ],
       "ref": "9127ed5e-8303-4ed5-adbc-32905d285282",
       "rows": [
        [
         "0",
         "train_Client_0",
         "0.0",
         "120.5",
         "3.9586070959264124",
         "0.32991101984941823",
         "0",
         "0",
         "0.04823673765604133"
        ],
        [
         "1",
         "train_Client_1",
         "0.0",
         "121.5",
         "3.991458607095926",
         "0.3326488706365503",
         "0",
         "0",
         "0.0875432525951557"
        ],
        [
         "2",
         "train_Client_10",
         "0.0",
         "147.0",
         "4.829172141918528",
         "0.4024640657084189",
         "0",
         "0",
         "0.04424722822720319"
        ],
        [
         "3",
         "train_Client_100",
         "0.0",
         "121.0",
         "3.9750328515111693",
         "0.33127994524298426",
         "0",
         "0",
         "0.07545500743445446"
        ],
        [
         "4",
         "train_Client_1000",
         "0.0",
         "124.0",
         "4.073587385019711",
         "0.3394934976043806",
         "0",
         "0",
         "0.08385620320693522"
        ]
       ],
       "shape": {
        "columns": 8,
        "rows": 5
       }
      },
      "text/html": [
       "<div>\n",
       "<style scoped>\n",
       "    .dataframe tbody tr th:only-of-type {\n",
       "        vertical-align: middle;\n",
       "    }\n",
       "\n",
       "    .dataframe tbody tr th {\n",
       "        vertical-align: top;\n",
       "    }\n",
       "\n",
       "    .dataframe thead th {\n",
       "        text-align: right;\n",
       "    }\n",
       "</style>\n",
       "<table border=\"1\" class=\"dataframe\">\n",
       "  <thead>\n",
       "    <tr style=\"text-align: right;\">\n",
       "      <th></th>\n",
       "      <th>client_id</th>\n",
       "      <th>target</th>\n",
       "      <th>f_invoive_date_diff_days</th>\n",
       "      <th>f_invoive_date_median_months</th>\n",
       "      <th>f_invoive_date_median_years</th>\n",
       "      <th>f_counter_statue_error_occured</th>\n",
       "      <th>f_counter_regions</th>\n",
       "      <th>f_region_fraud_rate</th>\n",
       "    </tr>\n",
       "  </thead>\n",
       "  <tbody>\n",
       "    <tr>\n",
       "      <th>0</th>\n",
       "      <td>train_Client_0</td>\n",
       "      <td>0.0</td>\n",
       "      <td>120.5</td>\n",
       "      <td>3.958607</td>\n",
       "      <td>0.329911</td>\n",
       "      <td>0</td>\n",
       "      <td>0</td>\n",
       "      <td>0.048237</td>\n",
       "    </tr>\n",
       "    <tr>\n",
       "      <th>1</th>\n",
       "      <td>train_Client_1</td>\n",
       "      <td>0.0</td>\n",
       "      <td>121.5</td>\n",
       "      <td>3.991459</td>\n",
       "      <td>0.332649</td>\n",
       "      <td>0</td>\n",
       "      <td>0</td>\n",
       "      <td>0.087543</td>\n",
       "    </tr>\n",
       "    <tr>\n",
       "      <th>2</th>\n",
       "      <td>train_Client_10</td>\n",
       "      <td>0.0</td>\n",
       "      <td>147.0</td>\n",
       "      <td>4.829172</td>\n",
       "      <td>0.402464</td>\n",
       "      <td>0</td>\n",
       "      <td>0</td>\n",
       "      <td>0.044247</td>\n",
       "    </tr>\n",
       "    <tr>\n",
       "      <th>3</th>\n",
       "      <td>train_Client_100</td>\n",
       "      <td>0.0</td>\n",
       "      <td>121.0</td>\n",
       "      <td>3.975033</td>\n",
       "      <td>0.331280</td>\n",
       "      <td>0</td>\n",
       "      <td>0</td>\n",
       "      <td>0.075455</td>\n",
       "    </tr>\n",
       "    <tr>\n",
       "      <th>4</th>\n",
       "      <td>train_Client_1000</td>\n",
       "      <td>0.0</td>\n",
       "      <td>124.0</td>\n",
       "      <td>4.073587</td>\n",
       "      <td>0.339493</td>\n",
       "      <td>0</td>\n",
       "      <td>0</td>\n",
       "      <td>0.083856</td>\n",
       "    </tr>\n",
       "  </tbody>\n",
       "</table>\n",
       "</div>"
      ],
      "text/plain": [
       "           client_id  target  f_invoive_date_diff_days   \n",
       "0     train_Client_0     0.0                     120.5  \\\n",
       "1     train_Client_1     0.0                     121.5   \n",
       "2    train_Client_10     0.0                     147.0   \n",
       "3   train_Client_100     0.0                     121.0   \n",
       "4  train_Client_1000     0.0                     124.0   \n",
       "\n",
       "   f_invoive_date_median_months  f_invoive_date_median_years   \n",
       "0                      3.958607                     0.329911  \\\n",
       "1                      3.991459                     0.332649   \n",
       "2                      4.829172                     0.402464   \n",
       "3                      3.975033                     0.331280   \n",
       "4                      4.073587                     0.339493   \n",
       "\n",
       "   f_counter_statue_error_occured  f_counter_regions  f_region_fraud_rate  \n",
       "0                               0                  0             0.048237  \n",
       "1                               0                  0             0.087543  \n",
       "2                               0                  0             0.044247  \n",
       "3                               0                  0             0.075455  \n",
       "4                               0                  0             0.083856  "
      ]
     },
     "execution_count": 20,
     "metadata": {},
     "output_type": "execute_result"
    }
   ],
   "source": [
    "df_fraud_aggregated.head()"
   ]
  },
  {
   "cell_type": "code",
   "execution_count": 21,
   "id": "eb73a26c",
   "metadata": {},
   "outputs": [
    {
     "data": {
      "application/vnd.microsoft.datawrangler.viewer.v0+json": {
       "columns": [
        {
         "name": "index",
         "rawType": "int64",
         "type": "integer"
        },
        {
         "name": "disrict",
         "rawType": "int64",
         "type": "integer"
        },
        {
         "name": "client_id",
         "rawType": "object",
         "type": "string"
        },
        {
         "name": "client_catg",
         "rawType": "int64",
         "type": "integer"
        },
        {
         "name": "region",
         "rawType": "int64",
         "type": "integer"
        },
        {
         "name": "creation_date",
         "rawType": "object",
         "type": "string"
        },
        {
         "name": "target",
         "rawType": "float64",
         "type": "float"
        }
       ],
       "ref": "6d71fe49-6ada-43ff-b2a1-9fa716b94d75",
       "rows": [
        [
         "0",
         "60",
         "train_Client_0",
         "11",
         "101",
         "31/12/1994",
         "0.0"
        ],
        [
         "1",
         "69",
         "train_Client_1",
         "11",
         "107",
         "29/05/2002",
         "0.0"
        ],
        [
         "2",
         "62",
         "train_Client_10",
         "11",
         "301",
         "13/03/1986",
         "0.0"
        ],
        [
         "3",
         "69",
         "train_Client_100",
         "11",
         "105",
         "11/07/1996",
         "0.0"
        ],
        [
         "4",
         "62",
         "train_Client_1000",
         "11",
         "303",
         "14/10/2014",
         "0.0"
        ]
       ],
       "shape": {
        "columns": 6,
        "rows": 5
       }
      },
      "text/html": [
       "<div>\n",
       "<style scoped>\n",
       "    .dataframe tbody tr th:only-of-type {\n",
       "        vertical-align: middle;\n",
       "    }\n",
       "\n",
       "    .dataframe tbody tr th {\n",
       "        vertical-align: top;\n",
       "    }\n",
       "\n",
       "    .dataframe thead th {\n",
       "        text-align: right;\n",
       "    }\n",
       "</style>\n",
       "<table border=\"1\" class=\"dataframe\">\n",
       "  <thead>\n",
       "    <tr style=\"text-align: right;\">\n",
       "      <th></th>\n",
       "      <th>disrict</th>\n",
       "      <th>client_id</th>\n",
       "      <th>client_catg</th>\n",
       "      <th>region</th>\n",
       "      <th>creation_date</th>\n",
       "      <th>target</th>\n",
       "    </tr>\n",
       "  </thead>\n",
       "  <tbody>\n",
       "    <tr>\n",
       "      <th>0</th>\n",
       "      <td>60</td>\n",
       "      <td>train_Client_0</td>\n",
       "      <td>11</td>\n",
       "      <td>101</td>\n",
       "      <td>31/12/1994</td>\n",
       "      <td>0.0</td>\n",
       "    </tr>\n",
       "    <tr>\n",
       "      <th>1</th>\n",
       "      <td>69</td>\n",
       "      <td>train_Client_1</td>\n",
       "      <td>11</td>\n",
       "      <td>107</td>\n",
       "      <td>29/05/2002</td>\n",
       "      <td>0.0</td>\n",
       "    </tr>\n",
       "    <tr>\n",
       "      <th>2</th>\n",
       "      <td>62</td>\n",
       "      <td>train_Client_10</td>\n",
       "      <td>11</td>\n",
       "      <td>301</td>\n",
       "      <td>13/03/1986</td>\n",
       "      <td>0.0</td>\n",
       "    </tr>\n",
       "    <tr>\n",
       "      <th>3</th>\n",
       "      <td>69</td>\n",
       "      <td>train_Client_100</td>\n",
       "      <td>11</td>\n",
       "      <td>105</td>\n",
       "      <td>11/07/1996</td>\n",
       "      <td>0.0</td>\n",
       "    </tr>\n",
       "    <tr>\n",
       "      <th>4</th>\n",
       "      <td>62</td>\n",
       "      <td>train_Client_1000</td>\n",
       "      <td>11</td>\n",
       "      <td>303</td>\n",
       "      <td>14/10/2014</td>\n",
       "      <td>0.0</td>\n",
       "    </tr>\n",
       "  </tbody>\n",
       "</table>\n",
       "</div>"
      ],
      "text/plain": [
       "   disrict          client_id  client_catg  region creation_date  target\n",
       "0       60     train_Client_0           11     101    31/12/1994     0.0\n",
       "1       69     train_Client_1           11     107    29/05/2002     0.0\n",
       "2       62    train_Client_10           11     301    13/03/1986     0.0\n",
       "3       69   train_Client_100           11     105    11/07/1996     0.0\n",
       "4       62  train_Client_1000           11     303    14/10/2014     0.0"
      ]
     },
     "execution_count": 21,
     "metadata": {},
     "output_type": "execute_result"
    }
   ],
   "source": [
    "client.head()"
   ]
  },
  {
   "cell_type": "code",
   "execution_count": 22,
   "id": "a79a4bd0",
   "metadata": {},
   "outputs": [],
   "source": [
    "df_fraud_aggregated = add_median_billing_frequence_per_region(fraud_merged, df_fraud_aggregated)"
   ]
  },
  {
   "cell_type": "code",
   "execution_count": 23,
   "id": "79b4b11a",
   "metadata": {},
   "outputs": [
    {
     "data": {
      "application/vnd.microsoft.datawrangler.viewer.v0+json": {
       "columns": [
        {
         "name": "index",
         "rawType": "object",
         "type": "string"
        },
        {
         "name": "0",
         "rawType": "object",
         "type": "unknown"
        }
       ],
       "ref": "89337dfa-a319-4dba-a3d5-829c1110581c",
       "rows": [
        [
         "client_id",
         "object"
        ],
        [
         "target",
         "float64"
        ],
        [
         "f_invoive_date_diff_days",
         "float64"
        ],
        [
         "f_invoive_date_median_months",
         "float64"
        ],
        [
         "f_invoive_date_median_years",
         "float64"
        ],
        [
         "f_counter_statue_error_occured",
         "int64"
        ],
        [
         "f_counter_regions",
         "int64"
        ],
        [
         "f_region_fraud_rate",
         "float64"
        ],
        [
         "f_region_median_billing_frequence_per",
         "float64"
        ]
       ],
       "shape": {
        "columns": 1,
        "rows": 9
       }
      },
      "text/plain": [
       "client_id                                 object\n",
       "target                                   float64\n",
       "f_invoive_date_diff_days                 float64\n",
       "f_invoive_date_median_months             float64\n",
       "f_invoive_date_median_years              float64\n",
       "f_counter_statue_error_occured             int64\n",
       "f_counter_regions                          int64\n",
       "f_region_fraud_rate                      float64\n",
       "f_region_median_billing_frequence_per    float64\n",
       "dtype: object"
      ]
     },
     "execution_count": 23,
     "metadata": {},
     "output_type": "execute_result"
    }
   ],
   "source": [
    "df_fraud_aggregated.dtypes"
   ]
  },
  {
   "cell_type": "code",
   "execution_count": 24,
   "id": "b14d457e",
   "metadata": {},
   "outputs": [
    {
     "data": {
      "application/vnd.microsoft.datawrangler.viewer.v0+json": {
       "columns": [
        {
         "name": "index",
         "rawType": "int64",
         "type": "integer"
        },
        {
         "name": "client_id",
         "rawType": "object",
         "type": "string"
        },
        {
         "name": "target",
         "rawType": "float64",
         "type": "float"
        },
        {
         "name": "f_invoive_date_diff_days",
         "rawType": "float64",
         "type": "float"
        },
        {
         "name": "f_invoive_date_median_months",
         "rawType": "float64",
         "type": "float"
        },
        {
         "name": "f_invoive_date_median_years",
         "rawType": "float64",
         "type": "float"
        },
        {
         "name": "f_counter_statue_error_occured",
         "rawType": "int64",
         "type": "integer"
        },
        {
         "name": "f_counter_regions",
         "rawType": "int64",
         "type": "integer"
        },
        {
         "name": "f_region_fraud_rate",
         "rawType": "float64",
         "type": "float"
        },
        {
         "name": "f_region_median_billing_frequence_per",
         "rawType": "float64",
         "type": "float"
        }
       ],
       "ref": "a427b8d3-0cf2-403c-982e-437ffe3a414f",
       "rows": [
        [
         "0",
         "train_Client_0",
         "0.0",
         "120.5",
         "3.9586070959264124",
         "0.32991101984941823",
         "0",
         "0",
         "0.04823673765604133",
         "93.0"
        ],
        [
         "1",
         "train_Client_1",
         "0.0",
         "121.5",
         "3.991458607095926",
         "0.3326488706365503",
         "0",
         "0",
         "0.0875432525951557",
         "84.0"
        ],
        [
         "2",
         "train_Client_10",
         "0.0",
         "147.0",
         "4.829172141918528",
         "0.4024640657084189",
         "0",
         "0",
         "0.04424722822720319",
         "96.0"
        ],
        [
         "3",
         "train_Client_100",
         "0.0",
         "121.0",
         "3.9750328515111693",
         "0.33127994524298426",
         "0",
         "0",
         "0.07545500743445446",
         "57.0"
        ],
        [
         "4",
         "train_Client_1000",
         "0.0",
         "124.0",
         "4.073587385019711",
         "0.3394934976043806",
         "0",
         "0",
         "0.08385620320693522",
         "95.0"
        ]
       ],
       "shape": {
        "columns": 9,
        "rows": 5
       }
      },
      "text/html": [
       "<div>\n",
       "<style scoped>\n",
       "    .dataframe tbody tr th:only-of-type {\n",
       "        vertical-align: middle;\n",
       "    }\n",
       "\n",
       "    .dataframe tbody tr th {\n",
       "        vertical-align: top;\n",
       "    }\n",
       "\n",
       "    .dataframe thead th {\n",
       "        text-align: right;\n",
       "    }\n",
       "</style>\n",
       "<table border=\"1\" class=\"dataframe\">\n",
       "  <thead>\n",
       "    <tr style=\"text-align: right;\">\n",
       "      <th></th>\n",
       "      <th>client_id</th>\n",
       "      <th>target</th>\n",
       "      <th>f_invoive_date_diff_days</th>\n",
       "      <th>f_invoive_date_median_months</th>\n",
       "      <th>f_invoive_date_median_years</th>\n",
       "      <th>f_counter_statue_error_occured</th>\n",
       "      <th>f_counter_regions</th>\n",
       "      <th>f_region_fraud_rate</th>\n",
       "      <th>f_region_median_billing_frequence_per</th>\n",
       "    </tr>\n",
       "  </thead>\n",
       "  <tbody>\n",
       "    <tr>\n",
       "      <th>0</th>\n",
       "      <td>train_Client_0</td>\n",
       "      <td>0.0</td>\n",
       "      <td>120.5</td>\n",
       "      <td>3.958607</td>\n",
       "      <td>0.329911</td>\n",
       "      <td>0</td>\n",
       "      <td>0</td>\n",
       "      <td>0.048237</td>\n",
       "      <td>93.0</td>\n",
       "    </tr>\n",
       "    <tr>\n",
       "      <th>1</th>\n",
       "      <td>train_Client_1</td>\n",
       "      <td>0.0</td>\n",
       "      <td>121.5</td>\n",
       "      <td>3.991459</td>\n",
       "      <td>0.332649</td>\n",
       "      <td>0</td>\n",
       "      <td>0</td>\n",
       "      <td>0.087543</td>\n",
       "      <td>84.0</td>\n",
       "    </tr>\n",
       "    <tr>\n",
       "      <th>2</th>\n",
       "      <td>train_Client_10</td>\n",
       "      <td>0.0</td>\n",
       "      <td>147.0</td>\n",
       "      <td>4.829172</td>\n",
       "      <td>0.402464</td>\n",
       "      <td>0</td>\n",
       "      <td>0</td>\n",
       "      <td>0.044247</td>\n",
       "      <td>96.0</td>\n",
       "    </tr>\n",
       "    <tr>\n",
       "      <th>3</th>\n",
       "      <td>train_Client_100</td>\n",
       "      <td>0.0</td>\n",
       "      <td>121.0</td>\n",
       "      <td>3.975033</td>\n",
       "      <td>0.331280</td>\n",
       "      <td>0</td>\n",
       "      <td>0</td>\n",
       "      <td>0.075455</td>\n",
       "      <td>57.0</td>\n",
       "    </tr>\n",
       "    <tr>\n",
       "      <th>4</th>\n",
       "      <td>train_Client_1000</td>\n",
       "      <td>0.0</td>\n",
       "      <td>124.0</td>\n",
       "      <td>4.073587</td>\n",
       "      <td>0.339493</td>\n",
       "      <td>0</td>\n",
       "      <td>0</td>\n",
       "      <td>0.083856</td>\n",
       "      <td>95.0</td>\n",
       "    </tr>\n",
       "  </tbody>\n",
       "</table>\n",
       "</div>"
      ],
      "text/plain": [
       "           client_id  target  f_invoive_date_diff_days   \n",
       "0     train_Client_0     0.0                     120.5  \\\n",
       "1     train_Client_1     0.0                     121.5   \n",
       "2    train_Client_10     0.0                     147.0   \n",
       "3   train_Client_100     0.0                     121.0   \n",
       "4  train_Client_1000     0.0                     124.0   \n",
       "\n",
       "   f_invoive_date_median_months  f_invoive_date_median_years   \n",
       "0                      3.958607                     0.329911  \\\n",
       "1                      3.991459                     0.332649   \n",
       "2                      4.829172                     0.402464   \n",
       "3                      3.975033                     0.331280   \n",
       "4                      4.073587                     0.339493   \n",
       "\n",
       "   f_counter_statue_error_occured  f_counter_regions  f_region_fraud_rate   \n",
       "0                               0                  0             0.048237  \\\n",
       "1                               0                  0             0.087543   \n",
       "2                               0                  0             0.044247   \n",
       "3                               0                  0             0.075455   \n",
       "4                               0                  0             0.083856   \n",
       "\n",
       "   f_region_median_billing_frequence_per  \n",
       "0                                   93.0  \n",
       "1                                   84.0  \n",
       "2                                   96.0  \n",
       "3                                   57.0  \n",
       "4                                   95.0  "
      ]
     },
     "execution_count": 24,
     "metadata": {},
     "output_type": "execute_result"
    }
   ],
   "source": [
    "df_fraud_aggregated.head()"
   ]
  },
  {
   "cell_type": "code",
   "execution_count": 25,
   "id": "8f2a9491",
   "metadata": {},
   "outputs": [],
   "source": [
    "df_fraud_aggregated = add_median_billing_frequence_per_region(fraud_merged, df_fraud_aggregated)"
   ]
  },
  {
   "cell_type": "code",
   "execution_count": 26,
   "id": "008c2140",
   "metadata": {},
   "outputs": [
    {
     "data": {
      "application/vnd.microsoft.datawrangler.viewer.v0+json": {
       "columns": [
        {
         "name": "index",
         "rawType": "object",
         "type": "string"
        },
        {
         "name": "0",
         "rawType": "object",
         "type": "unknown"
        }
       ],
       "ref": "bf6eeaab-f9ed-4a82-994b-880ba6737b61",
       "rows": [
        [
         "client_id",
         "object"
        ],
        [
         "target",
         "float64"
        ],
        [
         "f_invoive_date_diff_days",
         "float64"
        ],
        [
         "f_invoive_date_median_months",
         "float64"
        ],
        [
         "f_invoive_date_median_years",
         "float64"
        ],
        [
         "f_counter_statue_error_occured",
         "int64"
        ],
        [
         "f_counter_regions",
         "int64"
        ],
        [
         "f_region_fraud_rate",
         "float64"
        ],
        [
         "f_region_median_billing_frequence_per_x",
         "float64"
        ],
        [
         "f_region_median_billing_frequence_per_y",
         "float64"
        ]
       ],
       "shape": {
        "columns": 1,
        "rows": 10
       }
      },
      "text/plain": [
       "client_id                                   object\n",
       "target                                     float64\n",
       "f_invoive_date_diff_days                   float64\n",
       "f_invoive_date_median_months               float64\n",
       "f_invoive_date_median_years                float64\n",
       "f_counter_statue_error_occured               int64\n",
       "f_counter_regions                            int64\n",
       "f_region_fraud_rate                        float64\n",
       "f_region_median_billing_frequence_per_x    float64\n",
       "f_region_median_billing_frequence_per_y    float64\n",
       "dtype: object"
      ]
     },
     "execution_count": 26,
     "metadata": {},
     "output_type": "execute_result"
    }
   ],
   "source": [
    "df_fraud_aggregated.dtypes"
   ]
  },
  {
   "cell_type": "code",
   "execution_count": 29,
   "id": "e943ad2f",
   "metadata": {},
   "outputs": [],
   "source": [
    "df_fraud_aggregated = add_sdt_dev_consumption_region(fraud_merged, df_fraud_aggregated, postfix_consumption=\"_level_1\")\n",
    "df_fraud_aggregated = add_sdt_dev_consumption_region(fraud_merged, df_fraud_aggregated, postfix_consumption=\"_level_2\")\n",
    "df_fraud_aggregated = add_sdt_dev_consumption_region(fraud_merged, df_fraud_aggregated, postfix_consumption=\"_level_3\")\n",
    "df_fraud_aggregated = add_sdt_dev_consumption_region(fraud_merged, df_fraud_aggregated, postfix_consumption=\"_level_4\")\n"
   ]
  },
  {
   "cell_type": "code",
   "execution_count": 30,
   "id": "b2b55286",
   "metadata": {},
   "outputs": [
    {
     "data": {
      "application/vnd.microsoft.datawrangler.viewer.v0+json": {
       "columns": [
        {
         "name": "index",
         "rawType": "object",
         "type": "string"
        },
        {
         "name": "0",
         "rawType": "object",
         "type": "unknown"
        }
       ],
       "ref": "cac2bc2b-8712-4969-bc8a-51751dd71b8a",
       "rows": [
        [
         "client_id",
         "object"
        ],
        [
         "target",
         "float64"
        ],
        [
         "f_invoive_date_diff_days",
         "float64"
        ],
        [
         "f_invoive_date_median_months",
         "float64"
        ],
        [
         "f_invoive_date_median_years",
         "float64"
        ],
        [
         "f_counter_statue_error_occured",
         "int64"
        ],
        [
         "f_counter_regions",
         "int64"
        ],
        [
         "f_region_fraud_rate",
         "float64"
        ],
        [
         "f_region_median_billing_frequence_per_x",
         "float64"
        ],
        [
         "f_region_median_billing_frequence_per_y",
         "float64"
        ],
        [
         "f_region_std_deviation_consumption_level_1",
         "float64"
        ],
        [
         "f_region_std_deviation_consumption_level_2",
         "float64"
        ],
        [
         "f_region_std_deviation_consumption_level_3",
         "float64"
        ],
        [
         "f_region_std_deviation_consumption_level_4",
         "float64"
        ]
       ],
       "shape": {
        "columns": 1,
        "rows": 14
       }
      },
      "text/plain": [
       "client_id                                      object\n",
       "target                                        float64\n",
       "f_invoive_date_diff_days                      float64\n",
       "f_invoive_date_median_months                  float64\n",
       "f_invoive_date_median_years                   float64\n",
       "f_counter_statue_error_occured                  int64\n",
       "f_counter_regions                               int64\n",
       "f_region_fraud_rate                           float64\n",
       "f_region_median_billing_frequence_per_x       float64\n",
       "f_region_median_billing_frequence_per_y       float64\n",
       "f_region_std_deviation_consumption_level_1    float64\n",
       "f_region_std_deviation_consumption_level_2    float64\n",
       "f_region_std_deviation_consumption_level_3    float64\n",
       "f_region_std_deviation_consumption_level_4    float64\n",
       "dtype: object"
      ]
     },
     "execution_count": 30,
     "metadata": {},
     "output_type": "execute_result"
    }
   ],
   "source": [
    "df_fraud_aggregated.dtypes"
   ]
  },
  {
   "cell_type": "code",
   "execution_count": 31,
   "id": "9e4e6273",
   "metadata": {},
   "outputs": [
    {
     "data": {
      "application/vnd.microsoft.datawrangler.viewer.v0+json": {
       "columns": [
        {
         "name": "index",
         "rawType": "int64",
         "type": "integer"
        },
        {
         "name": "client_id",
         "rawType": "object",
         "type": "string"
        },
        {
         "name": "target",
         "rawType": "float64",
         "type": "float"
        },
        {
         "name": "f_invoive_date_diff_days",
         "rawType": "float64",
         "type": "float"
        },
        {
         "name": "f_invoive_date_median_months",
         "rawType": "float64",
         "type": "float"
        },
        {
         "name": "f_invoive_date_median_years",
         "rawType": "float64",
         "type": "float"
        },
        {
         "name": "f_counter_statue_error_occured",
         "rawType": "int64",
         "type": "integer"
        },
        {
         "name": "f_counter_regions",
         "rawType": "int64",
         "type": "integer"
        },
        {
         "name": "f_region_fraud_rate",
         "rawType": "float64",
         "type": "float"
        },
        {
         "name": "f_region_median_billing_frequence_per_x",
         "rawType": "float64",
         "type": "float"
        },
        {
         "name": "f_region_median_billing_frequence_per_y",
         "rawType": "float64",
         "type": "float"
        },
        {
         "name": "f_region_std_deviation_consumption_level_1",
         "rawType": "float64",
         "type": "float"
        },
        {
         "name": "f_region_std_deviation_consumption_level_2",
         "rawType": "float64",
         "type": "float"
        },
        {
         "name": "f_region_std_deviation_consumption_level_3",
         "rawType": "float64",
         "type": "float"
        },
        {
         "name": "f_region_std_deviation_consumption_level_4",
         "rawType": "float64",
         "type": "float"
        }
       ],
       "ref": "d4983eed-5e97-41b1-b5eb-7f80b8715ac3",
       "rows": [
        [
         "0",
         "train_Client_0",
         "0.0",
         "120.5",
         "3.9586070959264124",
         "0.32991101984941823",
         "0",
         "0",
         "0.04823673765604133",
         "93.0",
         "93.0",
         "616.7172101290936",
         "2003.4796737594772",
         "222.93749028257517",
         "1093.9907422860574"
        ],
        [
         "1",
         "train_Client_1",
         "0.0",
         "121.5",
         "3.991458607095926",
         "0.3326488706365503",
         "0",
         "0",
         "0.0875432525951557",
         "84.0",
         "84.0",
         "452.37512659050907",
         "1877.0016541883933",
         "132.70563842364396",
         "562.2915818769894"
        ],
        [
         "2",
         "train_Client_10",
         "0.0",
         "147.0",
         "4.829172141918528",
         "0.4024640657084189",
         "0",
         "0",
         "0.04424722822720319",
         "96.0",
         "96.0",
         "449.1674804031829",
         "532.6228455920584",
         "101.01741997601077",
         "472.91285196367215"
        ],
        [
         "3",
         "train_Client_100",
         "0.0",
         "121.0",
         "3.9750328515111693",
         "0.33127994524298426",
         "0",
         "0",
         "0.07545500743445446",
         "57.0",
         "57.0",
         "589.0001499677863",
         "830.3261072120647",
         "144.13530382717155",
         "692.6199680342567"
        ],
        [
         "4",
         "train_Client_1000",
         "0.0",
         "124.0",
         "4.073587385019711",
         "0.3394934976043806",
         "0",
         "0",
         "0.08385620320693522",
         "95.0",
         "95.0",
         "455.3313502728255",
         "572.0969114190649",
         "108.25419410722995",
         "504.79689822978384"
        ]
       ],
       "shape": {
        "columns": 14,
        "rows": 5
       }
      },
      "text/html": [
       "<div>\n",
       "<style scoped>\n",
       "    .dataframe tbody tr th:only-of-type {\n",
       "        vertical-align: middle;\n",
       "    }\n",
       "\n",
       "    .dataframe tbody tr th {\n",
       "        vertical-align: top;\n",
       "    }\n",
       "\n",
       "    .dataframe thead th {\n",
       "        text-align: right;\n",
       "    }\n",
       "</style>\n",
       "<table border=\"1\" class=\"dataframe\">\n",
       "  <thead>\n",
       "    <tr style=\"text-align: right;\">\n",
       "      <th></th>\n",
       "      <th>client_id</th>\n",
       "      <th>target</th>\n",
       "      <th>f_invoive_date_diff_days</th>\n",
       "      <th>f_invoive_date_median_months</th>\n",
       "      <th>f_invoive_date_median_years</th>\n",
       "      <th>f_counter_statue_error_occured</th>\n",
       "      <th>f_counter_regions</th>\n",
       "      <th>f_region_fraud_rate</th>\n",
       "      <th>f_region_median_billing_frequence_per_x</th>\n",
       "      <th>f_region_median_billing_frequence_per_y</th>\n",
       "      <th>f_region_std_deviation_consumption_level_1</th>\n",
       "      <th>f_region_std_deviation_consumption_level_2</th>\n",
       "      <th>f_region_std_deviation_consumption_level_3</th>\n",
       "      <th>f_region_std_deviation_consumption_level_4</th>\n",
       "    </tr>\n",
       "  </thead>\n",
       "  <tbody>\n",
       "    <tr>\n",
       "      <th>0</th>\n",
       "      <td>train_Client_0</td>\n",
       "      <td>0.0</td>\n",
       "      <td>120.5</td>\n",
       "      <td>3.958607</td>\n",
       "      <td>0.329911</td>\n",
       "      <td>0</td>\n",
       "      <td>0</td>\n",
       "      <td>0.048237</td>\n",
       "      <td>93.0</td>\n",
       "      <td>93.0</td>\n",
       "      <td>616.717210</td>\n",
       "      <td>2003.479674</td>\n",
       "      <td>222.937490</td>\n",
       "      <td>1093.990742</td>\n",
       "    </tr>\n",
       "    <tr>\n",
       "      <th>1</th>\n",
       "      <td>train_Client_1</td>\n",
       "      <td>0.0</td>\n",
       "      <td>121.5</td>\n",
       "      <td>3.991459</td>\n",
       "      <td>0.332649</td>\n",
       "      <td>0</td>\n",
       "      <td>0</td>\n",
       "      <td>0.087543</td>\n",
       "      <td>84.0</td>\n",
       "      <td>84.0</td>\n",
       "      <td>452.375127</td>\n",
       "      <td>1877.001654</td>\n",
       "      <td>132.705638</td>\n",
       "      <td>562.291582</td>\n",
       "    </tr>\n",
       "    <tr>\n",
       "      <th>2</th>\n",
       "      <td>train_Client_10</td>\n",
       "      <td>0.0</td>\n",
       "      <td>147.0</td>\n",
       "      <td>4.829172</td>\n",
       "      <td>0.402464</td>\n",
       "      <td>0</td>\n",
       "      <td>0</td>\n",
       "      <td>0.044247</td>\n",
       "      <td>96.0</td>\n",
       "      <td>96.0</td>\n",
       "      <td>449.167480</td>\n",
       "      <td>532.622846</td>\n",
       "      <td>101.017420</td>\n",
       "      <td>472.912852</td>\n",
       "    </tr>\n",
       "    <tr>\n",
       "      <th>3</th>\n",
       "      <td>train_Client_100</td>\n",
       "      <td>0.0</td>\n",
       "      <td>121.0</td>\n",
       "      <td>3.975033</td>\n",
       "      <td>0.331280</td>\n",
       "      <td>0</td>\n",
       "      <td>0</td>\n",
       "      <td>0.075455</td>\n",
       "      <td>57.0</td>\n",
       "      <td>57.0</td>\n",
       "      <td>589.000150</td>\n",
       "      <td>830.326107</td>\n",
       "      <td>144.135304</td>\n",
       "      <td>692.619968</td>\n",
       "    </tr>\n",
       "    <tr>\n",
       "      <th>4</th>\n",
       "      <td>train_Client_1000</td>\n",
       "      <td>0.0</td>\n",
       "      <td>124.0</td>\n",
       "      <td>4.073587</td>\n",
       "      <td>0.339493</td>\n",
       "      <td>0</td>\n",
       "      <td>0</td>\n",
       "      <td>0.083856</td>\n",
       "      <td>95.0</td>\n",
       "      <td>95.0</td>\n",
       "      <td>455.331350</td>\n",
       "      <td>572.096911</td>\n",
       "      <td>108.254194</td>\n",
       "      <td>504.796898</td>\n",
       "    </tr>\n",
       "  </tbody>\n",
       "</table>\n",
       "</div>"
      ],
      "text/plain": [
       "           client_id  target  f_invoive_date_diff_days   \n",
       "0     train_Client_0     0.0                     120.5  \\\n",
       "1     train_Client_1     0.0                     121.5   \n",
       "2    train_Client_10     0.0                     147.0   \n",
       "3   train_Client_100     0.0                     121.0   \n",
       "4  train_Client_1000     0.0                     124.0   \n",
       "\n",
       "   f_invoive_date_median_months  f_invoive_date_median_years   \n",
       "0                      3.958607                     0.329911  \\\n",
       "1                      3.991459                     0.332649   \n",
       "2                      4.829172                     0.402464   \n",
       "3                      3.975033                     0.331280   \n",
       "4                      4.073587                     0.339493   \n",
       "\n",
       "   f_counter_statue_error_occured  f_counter_regions  f_region_fraud_rate   \n",
       "0                               0                  0             0.048237  \\\n",
       "1                               0                  0             0.087543   \n",
       "2                               0                  0             0.044247   \n",
       "3                               0                  0             0.075455   \n",
       "4                               0                  0             0.083856   \n",
       "\n",
       "   f_region_median_billing_frequence_per_x   \n",
       "0                                     93.0  \\\n",
       "1                                     84.0   \n",
       "2                                     96.0   \n",
       "3                                     57.0   \n",
       "4                                     95.0   \n",
       "\n",
       "   f_region_median_billing_frequence_per_y   \n",
       "0                                     93.0  \\\n",
       "1                                     84.0   \n",
       "2                                     96.0   \n",
       "3                                     57.0   \n",
       "4                                     95.0   \n",
       "\n",
       "   f_region_std_deviation_consumption_level_1   \n",
       "0                                  616.717210  \\\n",
       "1                                  452.375127   \n",
       "2                                  449.167480   \n",
       "3                                  589.000150   \n",
       "4                                  455.331350   \n",
       "\n",
       "   f_region_std_deviation_consumption_level_2   \n",
       "0                                 2003.479674  \\\n",
       "1                                 1877.001654   \n",
       "2                                  532.622846   \n",
       "3                                  830.326107   \n",
       "4                                  572.096911   \n",
       "\n",
       "   f_region_std_deviation_consumption_level_3   \n",
       "0                                  222.937490  \\\n",
       "1                                  132.705638   \n",
       "2                                  101.017420   \n",
       "3                                  144.135304   \n",
       "4                                  108.254194   \n",
       "\n",
       "   f_region_std_deviation_consumption_level_4  \n",
       "0                                 1093.990742  \n",
       "1                                  562.291582  \n",
       "2                                  472.912852  \n",
       "3                                  692.619968  \n",
       "4                                  504.796898  "
      ]
     },
     "execution_count": 31,
     "metadata": {},
     "output_type": "execute_result"
    }
   ],
   "source": [
    "df_fraud_aggregated.head()"
   ]
  }
 ],
 "metadata": {
  "kernelspec": {
   "display_name": ".venv",
   "language": "python",
   "name": "python3"
  },
  "language_info": {
   "codemirror_mode": {
    "name": "ipython",
    "version": 3
   },
   "file_extension": ".py",
   "mimetype": "text/x-python",
   "name": "python",
   "nbconvert_exporter": "python",
   "pygments_lexer": "ipython3",
   "version": "3.11.3"
  }
 },
 "nbformat": 4,
 "nbformat_minor": 5
}
