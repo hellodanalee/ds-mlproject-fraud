{
 "cells": [
  {
   "cell_type": "code",
   "execution_count": null,
   "id": "167297f6",
   "metadata": {},
   "outputs": [],
   "source": [
    "from sklearn.model_selection import train_test_split\n",
    "\n",
    "from sklearn.linear_model import LogisticRegression\n",
    "from sklearn.metrics import classification_report, confusion_matrix\n",
    "\n",
    "from imblearn.over_sampling import  SMOTE\n",
    "from imblearn.pipeline import Pipeline \n",
    "\n",
    "from w1_feature_fraud_mk import collectAllFeaturesBaseline\n",
    "\n",
    "\n",
    "df_fraud_aggregated = collectAllFeaturesBaseline() "
   ]
  },
  {
   "cell_type": "code",
   "execution_count": 7,
   "id": "fa096155",
   "metadata": {},
   "outputs": [
    {
     "name": "stdout",
     "output_type": "stream",
     "text": [
      "Confusion Matrix:\n",
      "[[28087 10291]\n",
      " [ 1058  1212]]\n",
      "              precision    recall  f1-score   support\n",
      "\n",
      "         0.0       0.96      0.73      0.83     38378\n",
      "         1.0       0.11      0.53      0.18      2270\n",
      "\n",
      "    accuracy                           0.72     40648\n",
      "   macro avg       0.53      0.63      0.50     40648\n",
      "weighted avg       0.92      0.72      0.80     40648\n",
      "\n"
     ]
    },
    {
     "name": "stderr",
     "output_type": "stream",
     "text": [
      "/Users/muri/education/spiced/WaterMLOps/ds-mlproject-fraud/.venv/lib/python3.11/site-packages/sklearn/svm/_base.py:1249: ConvergenceWarning: Liblinear failed to converge, increase the number of iterations.\n",
      "  warnings.warn(\n"
     ]
    }
   ],
   "source": [
    "X = df_fraud_aggregated.drop(columns=[\"target\", \"client_id\"])\n",
    "X.fillna(0, inplace=True)  \n",
    "y = df_fraud_aggregated[\"target\"]\n",
    "\n",
    "X_train, X_test, y_train, y_test = train_test_split(\n",
    "    X, y, test_size=0.3, stratify=y, random_state=42\n",
    ")\n",
    "\n",
    "pipeline = Pipeline([\n",
    "    ('smote', SMOTE(random_state=42, sampling_strategy='auto')),\n",
    "    ('clf', LogisticRegression(class_weight='balanced', solver='liblinear'))\n",
    "])\n",
    "\n",
    "\n",
    "pipeline.fit(X_train, y_train)\n",
    "\n",
    "y_pred = pipeline.predict(X_test)\n",
    "print(\"Confusion Matrix:\")\n",
    "print(confusion_matrix(y_test, y_pred))\n",
    "\n",
    "print(classification_report(y_test, y_pred))"
   ]
  }
 ],
 "metadata": {
  "kernelspec": {
   "display_name": ".venv",
   "language": "python",
   "name": "python3"
  },
  "language_info": {
   "codemirror_mode": {
    "name": "ipython",
    "version": 3
   },
   "file_extension": ".py",
   "mimetype": "text/x-python",
   "name": "python",
   "nbconvert_exporter": "python",
   "pygments_lexer": "ipython3",
   "version": "3.11.3"
  }
 },
 "nbformat": 4,
 "nbformat_minor": 5
}
