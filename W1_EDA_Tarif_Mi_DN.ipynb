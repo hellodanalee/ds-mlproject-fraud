{
 "cells": [
  {
   "cell_type": "code",
   "execution_count": 1,
   "id": "30349ca2",
   "metadata": {},
   "outputs": [
    {
     "name": "stderr",
     "output_type": "stream",
     "text": [
      "/var/folders/t8/wfwm575525v6fcfsxf1vthj00000gn/T/ipykernel_1948/921748239.py:7: DtypeWarning: Columns (4) have mixed types. Specify dtype option on import or set low_memory=False.\n",
      "  invoice_df = pd.read_csv('data/invoice_train.csv')\n"
     ]
    }
   ],
   "source": [
    "import pandas as pd\n",
    "import numpy as np\n",
    "from sklearn.feature_selection import mutual_info_classif\n",
    "import matplotlib.pyplot as plt\n",
    "import seaborn as sns\n",
    "\n",
    "invoice_df = pd.read_csv('data/invoice_train.csv')\n",
    "client_df = pd.read_csv('data/client_train.csv')\n",
    "\n"
   ]
  },
  {
   "cell_type": "code",
   "execution_count": 2,
   "id": "087bd42e",
   "metadata": {},
   "outputs": [],
   "source": [
    "# From invoice_df table, extract client_id and tarif_type\n",
    "tarif_data = invoice_df[['client_id', 'tarif_type']].copy()\n",
    "\n",
    "# Triff mode aggregation - if there are multiple, select the lower value\n",
    "client_tarif = tarif_data.groupby('client_id')['tarif_type'].agg(\n",
    "    lambda x: pd.Series.mode(x)[0] if not pd.Series.mode(x).empty else None\n",
    ").reset_index()\n",
    "\n"
   ]
  },
  {
   "cell_type": "code",
   "execution_count": 8,
   "id": "bf63e114",
   "metadata": {},
   "outputs": [
    {
     "name": "stdout",
     "output_type": "stream",
     "text": [
      "\n",
      "Missing Value:\n",
      "client_id     0\n",
      "tarif_type    0\n",
      "target        0\n",
      "dtype: int64\n"
     ]
    }
   ],
   "source": [
    "# Merge data\n",
    "merged_data = client_tarif.merge(client_df[['client_id', 'target']], on='client_id', how='inner')\n",
    "\n",
    "# Missing value check \n",
    "print(\"\\nMissing Value:\")\n",
    "print(merged_data.isna().sum())"
   ]
  },
  {
   "cell_type": "code",
   "execution_count": 4,
   "id": "9770cbf9",
   "metadata": {},
   "outputs": [
    {
     "name": "stderr",
     "output_type": "stream",
     "text": [
      "/var/folders/t8/wfwm575525v6fcfsxf1vthj00000gn/T/ipykernel_1948/4168535588.py:5: SettingWithCopyWarning: \n",
      "A value is trying to be set on a copy of a slice from a DataFrame.\n",
      "Try using .loc[row_indexer,col_indexer] = value instead\n",
      "\n",
      "See the caveats in the documentation: https://pandas.pydata.org/pandas-docs/stable/user_guide/indexing.html#returning-a-view-versus-a-copy\n",
      "  X['tarif_type'] = X['tarif_type'].astype(str)\n"
     ]
    }
   ],
   "source": [
    "\n",
    "X = merged_data[['tarif_type']]\n",
    "y = merged_data['target']\n",
    "\n",
    "# To string \n",
    "X['tarif_type'] = X['tarif_type'].astype(str)\n",
    "\n"
   ]
  },
  {
   "cell_type": "code",
   "execution_count": 5,
   "id": "d5ba28dc",
   "metadata": {},
   "outputs": [],
   "source": [
    "\n",
    "mi_scores = mutual_info_classif(X, y, random_state=42)\n",
    "\n",
    "mi_results = pd.DataFrame({\n",
    "    'Feature': X.columns,\n",
    "    'MI_Score': mi_scores\n",
    "})\n",
    "\n"
   ]
  },
  {
   "cell_type": "code",
   "execution_count": 6,
   "id": "55ac6b38",
   "metadata": {},
   "outputs": [
    {
     "name": "stdout",
     "output_type": "stream",
     "text": [
      "      Feature  MI_Score\n",
      "0  tarif_type  0.016532\n"
     ]
    }
   ],
   "source": [
    "# order\n",
    "mi_results = mi_results.sort_values('MI_Score', ascending=False).reset_index(drop=True)\n",
    "\n",
    "print(mi_results)\n",
    "\n"
   ]
  },
  {
   "cell_type": "code",
   "execution_count": 7,
   "id": "79baac8b",
   "metadata": {},
   "outputs": [
    {
     "data": {
      "image/png": "[encoded data removed]",
      "text/plain": [
       "<Figure size 1000x600 with 1 Axes>"
      ]
     },
     "metadata": {},
     "output_type": "display_data"
    }
   ],
   "source": [
    "# Visualization\n",
    "plt.figure(figsize=(10, 6))\n",
    "sns.barplot(x='MI_Score', y='Feature', data=mi_results)\n",
    "plt.title('MI - tarif_type and target ')\n",
    "plt.tight_layout()\n",
    "plt.show()\n",
    "\n"
   ]
  }
 ],
 "metadata": {
  "kernelspec": {
   "display_name": ".venv",
   "language": "python",
   "name": "python3"
  },
  "language_info": {
   "codemirror_mode": {
    "name": "ipython",
    "version": 3
   },
   "file_extension": ".py",
   "mimetype": "text/x-python",
   "name": "python",
   "nbconvert_exporter": "python",
   "pygments_lexer": "ipython3",
   "version": "3.11.3"
  }
 },
 "nbformat": 4,
 "nbformat_minor": 5
}
