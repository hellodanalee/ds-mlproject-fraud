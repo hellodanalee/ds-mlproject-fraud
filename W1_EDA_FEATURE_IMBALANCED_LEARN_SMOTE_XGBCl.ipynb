{
 "cells": [
  {
   "cell_type": "code",
   "execution_count": null,
   "id": "167297f6",
   "metadata": {},
   "outputs": [],
   "source": [
    "import pandas as pd\n",
    "from sklearn.model_selection import train_test_split\n",
    "from sklearn.metrics import classification_report, confusion_matrix\n",
    "from xgboost import XGBClassifier\n",
    "from imblearn.over_sampling import SMOTE\n",
    "from imblearn.pipeline import Pipeline \n",
    "\n",
    "\n",
    "from fraud import collectAllFeaturesBaseline\n",
    "df_fraud_aggregated = collectAllFeaturesBaseline() "
   ]
  },
  {
   "cell_type": "code",
   "execution_count": 5,
   "id": "fa096155",
   "metadata": {},
   "outputs": [
    {
     "name": "stderr",
     "output_type": "stream",
     "text": [
      "/Users/muri/education/spiced/WaterMLOps/ds-mlproject-fraud/.venv/lib/python3.11/site-packages/xgboost/training.py:183: UserWarning: [22:44:42] WARNING: /private/var/folders/49/1y5t6tjd2hxgddgr4h8l86lr0000gn/T/pip-install-xwm7t153/xgboost_f76b7daff02d438b84bd67ed3f83a334/cpp_src/src/learner.cc:738: \n",
      "Parameters: { \"use_label_encoder\" } are not used.\n",
      "\n",
      "  bst.update(dtrain, iteration=i, fobj=obj)\n"
     ]
    },
    {
     "name": "stdout",
     "output_type": "stream",
     "text": [
      "[[14939 23439]\n",
      " [  339  1931]]\n",
      "=== SMOTE + XGBClassifier ===\n",
      "              precision    recall  f1-score   support\n",
      "\n",
      "         0.0       0.98      0.39      0.56     38378\n",
      "         1.0       0.08      0.85      0.14      2270\n",
      "\n",
      "    accuracy                           0.42     40648\n",
      "   macro avg       0.53      0.62      0.35     40648\n",
      "weighted avg       0.93      0.42      0.53     40648\n",
      "\n"
     ]
    }
   ],
   "source": [
    "X = df_fraud_aggregated.drop(columns=[\"target\", \"client_id\"])\n",
    "X.fillna(0, inplace=True)  \n",
    "y = df_fraud_aggregated[\"target\"]\n",
    "\n",
    "X_train, X_test, y_train, y_test = train_test_split(\n",
    "    X, y, test_size=0.3, stratify=y, random_state=42\n",
    ")\n",
    "\n",
    "\n",
    "scale_pos_weight = (y_train == 0).sum() / (y_train == 1).sum()\n",
    "\n",
    "pipeline_smote = Pipeline([\n",
    "    (\"smote\", SMOTE(random_state=42, sampling_strategy=\"auto\")),\n",
    "    (\"xgb\", XGBClassifier(\n",
    "        use_label_encoder=False,   # neuere XGBoost-Versionen\n",
    "        eval_metric=\"logloss\",     # oder \"auc\"\n",
    "        n_estimators=150,          # Anzahl der Bäume\n",
    "        max_depth=6,               # maximale Tiefe der Bäume\n",
    "        learning_rate=0.1,         # Shrinkage\n",
    "        subsample=0.8,             # Bagging-Rate\n",
    "        colsample_bytree=0.8,      # Feature-Subsampling\n",
    "        scale_pos_weight=scale_pos_weight,\n",
    "        random_state=42\n",
    "    ))\n",
    "])\n",
    "\n",
    "pipeline_smote.fit(X_train, y_train)\n",
    "y_pred_smote = pipeline_smote.predict(X_test)\n",
    "\n",
    "print(confusion_matrix(y_test, y_pred_smote))\n",
    "print(\"=== SMOTE + XGBClassifier ===\")\n",
    "print(classification_report(y_test, y_pred_smote))\n",
    "\n",
    "\n"
   ]
  }
 ],
 "metadata": {
  "kernelspec": {
   "display_name": ".venv",
   "language": "python",
   "name": "python3"
  },
  "language_info": {
   "codemirror_mode": {
    "name": "ipython",
    "version": 3
   },
   "file_extension": ".py",
   "mimetype": "text/x-python",
   "name": "python",
   "nbconvert_exporter": "python",
   "pygments_lexer": "ipython3",
   "version": "3.11.3"
  }
 },
 "nbformat": 4,
 "nbformat_minor": 5
}
