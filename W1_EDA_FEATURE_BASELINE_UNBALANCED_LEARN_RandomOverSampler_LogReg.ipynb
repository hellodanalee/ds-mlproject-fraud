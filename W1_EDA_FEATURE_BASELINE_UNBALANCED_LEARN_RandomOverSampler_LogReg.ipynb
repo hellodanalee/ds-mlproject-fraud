{
 "cells": [
  {
   "cell_type": "code",
   "execution_count": 1,
   "id": "167297f6",
   "metadata": {},
   "outputs": [
    {
     "name": "stderr",
     "output_type": "stream",
     "text": [
      "/Users/muri/education/spiced/WaterMLOps/ds-mlproject-fraud/fraud.py:58: DtypeWarning: Columns (4) have mixed types. Specify dtype option on import or set low_memory=False.\n",
      "  self._frames[str(p)] = pd.read_csv(p)\n"
     ]
    },
    {
     "name": "stdout",
     "output_type": "stream",
     "text": [
      "           client_id  target  disrict  region  client_catg\n",
      "0     train_Client_0     0.0       60     101           11\n",
      "1     train_Client_1     0.0       69     107           11\n",
      "2    train_Client_10     0.0       62     301           11\n",
      "3   train_Client_100     0.0       69     105           11\n",
      "4  train_Client_1000     0.0       62     303           11\n"
     ]
    }
   ],
   "source": [
    "from sklearn.model_selection import train_test_split\n",
    "\n",
    "from sklearn.linear_model import LogisticRegression\n",
    "from sklearn.metrics import classification_report, confusion_matrix\n",
    "\n",
    "\n",
    "from imblearn.over_sampling import RandomOverSampler\n",
    "from imblearn.pipeline import Pipeline  # imblearn-eigene Pipeline, kompatibel zu sklearn\n",
    "\n",
    "from fraud import collectAllFeaturesBaseline\n",
    "\n",
    "\n",
    "df_fraud_aggregated = collectAllFeaturesBaseline() "
   ]
  },
  {
   "cell_type": "code",
   "execution_count": 2,
   "id": "fa096155",
   "metadata": {},
   "outputs": [
    {
     "name": "stdout",
     "output_type": "stream",
     "text": [
      "Confusion Matrix:\n",
      "[[28430  9948]\n",
      " [ 1058  1212]]\n",
      "              precision    recall  f1-score   support\n",
      "\n",
      "         0.0       0.96      0.74      0.84     38378\n",
      "         1.0       0.11      0.53      0.18      2270\n",
      "\n",
      "    accuracy                           0.73     40648\n",
      "   macro avg       0.54      0.64      0.51     40648\n",
      "weighted avg       0.92      0.73      0.80     40648\n",
      "\n"
     ]
    },
    {
     "name": "stderr",
     "output_type": "stream",
     "text": [
      "/Users/muri/education/spiced/WaterMLOps/ds-mlproject-fraud/.venv/lib/python3.11/site-packages/sklearn/linear_model/_logistic.py:465: ConvergenceWarning: lbfgs failed to converge (status=1):\n",
      "STOP: TOTAL NO. OF ITERATIONS REACHED LIMIT.\n",
      "\n",
      "Increase the number of iterations (max_iter) or scale the data as shown in:\n",
      "    https://scikit-learn.org/stable/modules/preprocessing.html\n",
      "Please also refer to the documentation for alternative solver options:\n",
      "    https://scikit-learn.org/stable/modules/linear_model.html#logistic-regression\n",
      "  n_iter_i = _check_optimize_result(\n"
     ]
    }
   ],
   "source": [
    "#X = df_fraud_aggregated.drop(columns=[\"target\", \"client_id\"])\n",
    "X = df_fraud_aggregated.drop(columns=[\"client_id\", \"target\", \"region\", \"disrict\", \"client_catg\"])\n",
    "X.fillna(0, inplace=True)  \n",
    "y = df_fraud_aggregated[\"target\"]\n",
    "\n",
    "X_train, X_test, y_train, y_test = train_test_split(\n",
    "    X, y, test_size=0.3, stratify=y, random_state=42\n",
    ")\n",
    "\n",
    "pipeline_ros = Pipeline([\n",
    "    ('ros', RandomOverSampler(random_state=42)),\n",
    "    ('clf', LogisticRegression(class_weight='balanced'))\n",
    "])\n",
    "\n",
    "pipeline_ros.fit(X_train, y_train)\n",
    "\n",
    "y_pred = pipeline_ros.predict(X_test)\n",
    "\n",
    "print(\"Confusion Matrix:\")\n",
    "print(confusion_matrix(y_test, y_pred))\n",
    "print(classification_report(y_test, y_pred))"
   ]
  }
 ],
 "metadata": {
  "kernelspec": {
   "display_name": ".venv",
   "language": "python",
   "name": "python3"
  },
  "language_info": {
   "codemirror_mode": {
    "name": "ipython",
    "version": 3
   },
   "file_extension": ".py",
   "mimetype": "text/x-python",
   "name": "python",
   "nbconvert_exporter": "python",
   "pygments_lexer": "ipython3",
   "version": "3.11.3"
  }
 },
 "nbformat": 4,
 "nbformat_minor": 5
}
