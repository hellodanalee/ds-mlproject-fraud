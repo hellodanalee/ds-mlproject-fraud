{
 "cells": [
  {
   "cell_type": "code",
   "execution_count": 9,
   "id": "167297f6",
   "metadata": {},
   "outputs": [
    {
     "name": "stderr",
     "output_type": "stream",
     "text": [
      "/Users/muri/education/spiced/WaterMLOps/ds-mlproject-fraud/fraud.py:58: DtypeWarning: Columns (4) have mixed types. Specify dtype option on import or set low_memory=False.\n",
      "  self._frames[str(p)] = pd.read_csv(p)\n"
     ]
    },
    {
     "name": "stdout",
     "output_type": "stream",
     "text": [
      "           client_id  target  disrict  region  client_catg\n",
      "0     train_Client_0     0.0       60     101           11\n",
      "1     train_Client_1     0.0       69     107           11\n",
      "2    train_Client_10     0.0       62     301           11\n",
      "3   train_Client_100     0.0       69     105           11\n",
      "4  train_Client_1000     0.0       62     303           11\n"
     ]
    },
    {
     "name": "stderr",
     "output_type": "stream",
     "text": [
      "/Users/muri/education/spiced/WaterMLOps/ds-mlproject-fraud/fraud.py:687: UserWarning: Parsing dates in %d/%m/%Y format when dayfirst=False (the default) was specified. Pass `dayfirst=True` or specify a format to silence this warning.\n",
      "  merge_df['creation_date'] = pd.to_datetime(merge_df['creation_date'])\n"
     ]
    }
   ],
   "source": [
    "from fraud import collectAllFeaturesBaseline\n",
    "from fraud import calculate_mutual_information, visualize_mutual_information\n",
    "\n",
    "df_fraud_aggregated = collectAllFeaturesBaseline() "
   ]
  },
  {
   "cell_type": "code",
   "execution_count": 11,
   "id": "41ff1c26",
   "metadata": {},
   "outputs": [
    {
     "data": {
      "application/vnd.microsoft.datawrangler.viewer.v0+json": {
       "columns": [
        {
         "name": "target",
         "rawType": "float64",
         "type": "float"
        },
        {
         "name": "proportion",
         "rawType": "float64",
         "type": "float"
        }
       ],
       "ref": "7210517a-3dd3-439f-aa1c-07389b2001e8",
       "rows": [
        [
         "0.0",
         "0.944159476873344"
        ],
        [
         "1.0",
         "0.05584052312665599"
        ]
       ],
       "shape": {
        "columns": 1,
        "rows": 2
       }
      },
      "text/plain": [
       "target\n",
       "0.0    0.944159\n",
       "1.0    0.055841\n",
       "Name: proportion, dtype: float64"
      ]
     },
     "execution_count": 11,
     "metadata": {},
     "output_type": "execute_result"
    }
   ],
   "source": [
    "df_fraud_aggregated['target'].value_counts(normalize=True)"
   ]
  },
  {
   "cell_type": "code",
   "execution_count": 2,
   "id": "5db4ec53",
   "metadata": {},
   "outputs": [],
   "source": [
    "#df_fraud_mutual_info = calculate_mutual_information(df_fraud_aggregated, target_col=\"target\", exclude_cols=[\"client_id\", \"target\", 'region', 'disrict', 'client_catg'])\n",
    "df_fraud_mutual_info = calculate_mutual_information(df_fraud_aggregated, target_col=\"target\", exclude_cols=[\"client_id\", \"target\"])"
   ]
  },
  {
   "cell_type": "code",
   "execution_count": 3,
   "id": "ece5b030",
   "metadata": {},
   "outputs": [
    {
     "data": {
      "application/vnd.microsoft.datawrangler.viewer.v0+json": {
       "columns": [
        {
         "name": "index",
         "rawType": "int64",
         "type": "integer"
        },
        {
         "name": "Feature",
         "rawType": "object",
         "type": "string"
        },
        {
         "name": "MI_Score",
         "rawType": "float64",
         "type": "float"
        }
       ],
       "ref": "d6f6a613-6647-4b62-b96f-e5a9a77c3dc8",
       "rows": [
        [
         "0",
         "f_t_client_catg_target_mean",
         "0.035931427129196836"
        ],
        [
         "1",
         "client_catg",
         "0.029743043589022466"
        ],
        [
         "2",
         "remarque_frequency",
         "0.028451199325411514"
        ],
        [
         "3",
         "f_counter_number_nunique",
         "0.02812405917519256"
        ],
        [
         "4",
         "avg_remarque_length",
         "0.019967768215241044"
        ],
        [
         "5",
         "tarif_type",
         "0.016767013584358503"
        ],
        [
         "6",
         "f_tarif_change_count",
         "0.012486737946123982"
        ],
        [
         "7",
         "f_index_diff_max",
         "0.010286331511447866"
        ],
        [
         "8",
         "f_total_consumption_max",
         "0.009876708282266389"
        ],
        [
         "9",
         "disrict",
         "0.009845451343905243"
        ],
        [
         "10",
         "f_total_consumption_std",
         "0.009532946152432498"
        ],
        [
         "11",
         "f_index_diff_std",
         "0.009459849049110902"
        ],
        [
         "12",
         "f_client_tenure_days",
         "0.009393548509648575"
        ],
        [
         "13",
         "consommation_level_2_max",
         "0.009250915985901553"
        ],
        [
         "14",
         "f_counter_statue_error_occured",
         "0.009222005454954108"
        ],
        [
         "15",
         "f_region_std_deviation_consumption_level_3",
         "0.007812336627189387"
        ],
        [
         "16",
         "consommation_level_2_mean",
         "0.007602808899259905"
        ],
        [
         "17",
         "f_region_std_deviation_consumption_level_2",
         "0.007388170620535872"
        ],
        [
         "18",
         "consommation_level_3_mean",
         "0.007351910788282456"
        ],
        [
         "19",
         "consommation_level_1_max",
         "0.007289834162799158"
        ],
        [
         "20",
         "f_region_std_deviation_consumption_level_4",
         "0.007273963971337949"
        ],
        [
         "21",
         "consommation_level_2_std",
         "0.007074047481321122"
        ],
        [
         "22",
         "consommation_level_3_max",
         "0.0070010268727667135"
        ],
        [
         "23",
         "consommation_level_1_std",
         "0.0069830814160509735"
        ],
        [
         "24",
         "f_t_district_target_mean",
         "0.0069136863161747275"
        ],
        [
         "25",
         "consommation_level_4_std",
         "0.006850223643512177"
        ],
        [
         "26",
         "consommation_level_3_std",
         "0.006822122091144189"
        ],
        [
         "27",
         "f_region_std_deviation_consumption_level_1",
         "0.006515562477603876"
        ],
        [
         "28",
         "consommation_level_4_mean",
         "0.006462059966577005"
        ],
        [
         "29",
         "f_t_region_fraud_rate",
         "0.00604944698028409"
        ],
        [
         "30",
         "f_region_median_billing_frequence_per",
         "0.006019931712161419"
        ],
        [
         "31",
         "f_total_consumption_mean",
         "0.005938226073460617"
        ],
        [
         "32",
         "consommation_level_4_max",
         "0.005713514626723315"
        ],
        [
         "33",
         "f_index_diff_mean",
         "0.00566711201566461"
        ],
        [
         "34",
         "avg_consumption_per_month",
         "0.005490900050914682"
        ],
        [
         "35",
         "region",
         "0.005070582971675508"
        ],
        [
         "36",
         "consommation_level_1_mean",
         "0.004673506694428342"
        ],
        [
         "37",
         "consommation_level_1_min",
         "0.0041393291876399285"
        ],
        [
         "38",
         "f_counter_statue_mean",
         "0.003911949122509695"
        ],
        [
         "39",
         "f_total_consumption_min",
         "0.0037526943720866957"
        ],
        [
         "40",
         "f_index_diff_min",
         "0.0034905397163753626"
        ],
        [
         "41",
         "f_invoive_date_median_months",
         "0.002937464477372309"
        ],
        [
         "42",
         "f_invoive_date_diff_days",
         "0.002422519936309264"
        ],
        [
         "43",
         "f_invoive_date_median_years",
         "0.0016132221708615724"
        ],
        [
         "44",
         "f_index_cons_error_sum",
         "0.0011655596302380111"
        ],
        [
         "45",
         "faulty_status_rate",
         "0.0007975317156228012"
        ],
        [
         "46",
         "consommation_level_2_min",
         "0.0007110556521230382"
        ],
        [
         "47",
         "f_counter_regions",
         "0.0"
        ],
        [
         "48",
         "consommation_level_3_min",
         "0.0"
        ],
        [
         "49",
         "consommation_level_4_min",
         "0.0"
        ]
       ],
       "shape": {
        "columns": 2,
        "rows": 50
       }
      },
      "text/html": [
       "<div>\n",
       "<style scoped>\n",
       "    .dataframe tbody tr th:only-of-type {\n",
       "        vertical-align: middle;\n",
       "    }\n",
       "\n",
       "    .dataframe tbody tr th {\n",
       "        vertical-align: top;\n",
       "    }\n",
       "\n",
       "    .dataframe thead th {\n",
       "        text-align: right;\n",
       "    }\n",
       "</style>\n",
       "<table border=\"1\" class=\"dataframe\">\n",
       "  <thead>\n",
       "    <tr style=\"text-align: right;\">\n",
       "      <th></th>\n",
       "      <th>Feature</th>\n",
       "      <th>MI_Score</th>\n",
       "    </tr>\n",
       "  </thead>\n",
       "  <tbody>\n",
       "    <tr>\n",
       "      <th>0</th>\n",
       "      <td>f_t_client_catg_target_mean</td>\n",
       "      <td>0.035931</td>\n",
       "    </tr>\n",
       "    <tr>\n",
       "      <th>1</th>\n",
       "      <td>client_catg</td>\n",
       "      <td>0.029743</td>\n",
       "    </tr>\n",
       "    <tr>\n",
       "      <th>2</th>\n",
       "      <td>remarque_frequency</td>\n",
       "      <td>0.028451</td>\n",
       "    </tr>\n",
       "    <tr>\n",
       "      <th>3</th>\n",
       "      <td>f_counter_number_nunique</td>\n",
       "      <td>0.028124</td>\n",
       "    </tr>\n",
       "    <tr>\n",
       "      <th>4</th>\n",
       "      <td>avg_remarque_length</td>\n",
       "      <td>0.019968</td>\n",
       "    </tr>\n",
       "    <tr>\n",
       "      <th>5</th>\n",
       "      <td>tarif_type</td>\n",
       "      <td>0.016767</td>\n",
       "    </tr>\n",
       "    <tr>\n",
       "      <th>6</th>\n",
       "      <td>f_tarif_change_count</td>\n",
       "      <td>0.012487</td>\n",
       "    </tr>\n",
       "    <tr>\n",
       "      <th>7</th>\n",
       "      <td>f_index_diff_max</td>\n",
       "      <td>0.010286</td>\n",
       "    </tr>\n",
       "    <tr>\n",
       "      <th>8</th>\n",
       "      <td>f_total_consumption_max</td>\n",
       "      <td>0.009877</td>\n",
       "    </tr>\n",
       "    <tr>\n",
       "      <th>9</th>\n",
       "      <td>disrict</td>\n",
       "      <td>0.009845</td>\n",
       "    </tr>\n",
       "    <tr>\n",
       "      <th>10</th>\n",
       "      <td>f_total_consumption_std</td>\n",
       "      <td>0.009533</td>\n",
       "    </tr>\n",
       "    <tr>\n",
       "      <th>11</th>\n",
       "      <td>f_index_diff_std</td>\n",
       "      <td>0.009460</td>\n",
       "    </tr>\n",
       "    <tr>\n",
       "      <th>12</th>\n",
       "      <td>f_client_tenure_days</td>\n",
       "      <td>0.009394</td>\n",
       "    </tr>\n",
       "    <tr>\n",
       "      <th>13</th>\n",
       "      <td>consommation_level_2_max</td>\n",
       "      <td>0.009251</td>\n",
       "    </tr>\n",
       "    <tr>\n",
       "      <th>14</th>\n",
       "      <td>f_counter_statue_error_occured</td>\n",
       "      <td>0.009222</td>\n",
       "    </tr>\n",
       "    <tr>\n",
       "      <th>15</th>\n",
       "      <td>f_region_std_deviation_consumption_level_3</td>\n",
       "      <td>0.007812</td>\n",
       "    </tr>\n",
       "    <tr>\n",
       "      <th>16</th>\n",
       "      <td>consommation_level_2_mean</td>\n",
       "      <td>0.007603</td>\n",
       "    </tr>\n",
       "    <tr>\n",
       "      <th>17</th>\n",
       "      <td>f_region_std_deviation_consumption_level_2</td>\n",
       "      <td>0.007388</td>\n",
       "    </tr>\n",
       "    <tr>\n",
       "      <th>18</th>\n",
       "      <td>consommation_level_3_mean</td>\n",
       "      <td>0.007352</td>\n",
       "    </tr>\n",
       "    <tr>\n",
       "      <th>19</th>\n",
       "      <td>consommation_level_1_max</td>\n",
       "      <td>0.007290</td>\n",
       "    </tr>\n",
       "    <tr>\n",
       "      <th>20</th>\n",
       "      <td>f_region_std_deviation_consumption_level_4</td>\n",
       "      <td>0.007274</td>\n",
       "    </tr>\n",
       "    <tr>\n",
       "      <th>21</th>\n",
       "      <td>consommation_level_2_std</td>\n",
       "      <td>0.007074</td>\n",
       "    </tr>\n",
       "    <tr>\n",
       "      <th>22</th>\n",
       "      <td>consommation_level_3_max</td>\n",
       "      <td>0.007001</td>\n",
       "    </tr>\n",
       "    <tr>\n",
       "      <th>23</th>\n",
       "      <td>consommation_level_1_std</td>\n",
       "      <td>0.006983</td>\n",
       "    </tr>\n",
       "    <tr>\n",
       "      <th>24</th>\n",
       "      <td>f_t_district_target_mean</td>\n",
       "      <td>0.006914</td>\n",
       "    </tr>\n",
       "    <tr>\n",
       "      <th>25</th>\n",
       "      <td>consommation_level_4_std</td>\n",
       "      <td>0.006850</td>\n",
       "    </tr>\n",
       "    <tr>\n",
       "      <th>26</th>\n",
       "      <td>consommation_level_3_std</td>\n",
       "      <td>0.006822</td>\n",
       "    </tr>\n",
       "    <tr>\n",
       "      <th>27</th>\n",
       "      <td>f_region_std_deviation_consumption_level_1</td>\n",
       "      <td>0.006516</td>\n",
       "    </tr>\n",
       "    <tr>\n",
       "      <th>28</th>\n",
       "      <td>consommation_level_4_mean</td>\n",
       "      <td>0.006462</td>\n",
       "    </tr>\n",
       "    <tr>\n",
       "      <th>29</th>\n",
       "      <td>f_t_region_fraud_rate</td>\n",
       "      <td>0.006049</td>\n",
       "    </tr>\n",
       "    <tr>\n",
       "      <th>30</th>\n",
       "      <td>f_region_median_billing_frequence_per</td>\n",
       "      <td>0.006020</td>\n",
       "    </tr>\n",
       "    <tr>\n",
       "      <th>31</th>\n",
       "      <td>f_total_consumption_mean</td>\n",
       "      <td>0.005938</td>\n",
       "    </tr>\n",
       "    <tr>\n",
       "      <th>32</th>\n",
       "      <td>consommation_level_4_max</td>\n",
       "      <td>0.005714</td>\n",
       "    </tr>\n",
       "    <tr>\n",
       "      <th>33</th>\n",
       "      <td>f_index_diff_mean</td>\n",
       "      <td>0.005667</td>\n",
       "    </tr>\n",
       "    <tr>\n",
       "      <th>34</th>\n",
       "      <td>avg_consumption_per_month</td>\n",
       "      <td>0.005491</td>\n",
       "    </tr>\n",
       "    <tr>\n",
       "      <th>35</th>\n",
       "      <td>region</td>\n",
       "      <td>0.005071</td>\n",
       "    </tr>\n",
       "    <tr>\n",
       "      <th>36</th>\n",
       "      <td>consommation_level_1_mean</td>\n",
       "      <td>0.004674</td>\n",
       "    </tr>\n",
       "    <tr>\n",
       "      <th>37</th>\n",
       "      <td>consommation_level_1_min</td>\n",
       "      <td>0.004139</td>\n",
       "    </tr>\n",
       "    <tr>\n",
       "      <th>38</th>\n",
       "      <td>f_counter_statue_mean</td>\n",
       "      <td>0.003912</td>\n",
       "    </tr>\n",
       "    <tr>\n",
       "      <th>39</th>\n",
       "      <td>f_total_consumption_min</td>\n",
       "      <td>0.003753</td>\n",
       "    </tr>\n",
       "    <tr>\n",
       "      <th>40</th>\n",
       "      <td>f_index_diff_min</td>\n",
       "      <td>0.003491</td>\n",
       "    </tr>\n",
       "    <tr>\n",
       "      <th>41</th>\n",
       "      <td>f_invoive_date_median_months</td>\n",
       "      <td>0.002937</td>\n",
       "    </tr>\n",
       "    <tr>\n",
       "      <th>42</th>\n",
       "      <td>f_invoive_date_diff_days</td>\n",
       "      <td>0.002423</td>\n",
       "    </tr>\n",
       "    <tr>\n",
       "      <th>43</th>\n",
       "      <td>f_invoive_date_median_years</td>\n",
       "      <td>0.001613</td>\n",
       "    </tr>\n",
       "    <tr>\n",
       "      <th>44</th>\n",
       "      <td>f_index_cons_error_sum</td>\n",
       "      <td>0.001166</td>\n",
       "    </tr>\n",
       "    <tr>\n",
       "      <th>45</th>\n",
       "      <td>faulty_status_rate</td>\n",
       "      <td>0.000798</td>\n",
       "    </tr>\n",
       "    <tr>\n",
       "      <th>46</th>\n",
       "      <td>consommation_level_2_min</td>\n",
       "      <td>0.000711</td>\n",
       "    </tr>\n",
       "    <tr>\n",
       "      <th>47</th>\n",
       "      <td>f_counter_regions</td>\n",
       "      <td>0.000000</td>\n",
       "    </tr>\n",
       "    <tr>\n",
       "      <th>48</th>\n",
       "      <td>consommation_level_3_min</td>\n",
       "      <td>0.000000</td>\n",
       "    </tr>\n",
       "    <tr>\n",
       "      <th>49</th>\n",
       "      <td>consommation_level_4_min</td>\n",
       "      <td>0.000000</td>\n",
       "    </tr>\n",
       "  </tbody>\n",
       "</table>\n",
       "</div>"
      ],
      "text/plain": [
       "                                       Feature  MI_Score\n",
       "0                  f_t_client_catg_target_mean  0.035931\n",
       "1                                  client_catg  0.029743\n",
       "2                           remarque_frequency  0.028451\n",
       "3                     f_counter_number_nunique  0.028124\n",
       "4                          avg_remarque_length  0.019968\n",
       "5                                   tarif_type  0.016767\n",
       "6                         f_tarif_change_count  0.012487\n",
       "7                             f_index_diff_max  0.010286\n",
       "8                      f_total_consumption_max  0.009877\n",
       "9                                      disrict  0.009845\n",
       "10                     f_total_consumption_std  0.009533\n",
       "11                            f_index_diff_std  0.009460\n",
       "12                        f_client_tenure_days  0.009394\n",
       "13                    consommation_level_2_max  0.009251\n",
       "14              f_counter_statue_error_occured  0.009222\n",
       "15  f_region_std_deviation_consumption_level_3  0.007812\n",
       "16                   consommation_level_2_mean  0.007603\n",
       "17  f_region_std_deviation_consumption_level_2  0.007388\n",
       "18                   consommation_level_3_mean  0.007352\n",
       "19                    consommation_level_1_max  0.007290\n",
       "20  f_region_std_deviation_consumption_level_4  0.007274\n",
       "21                    consommation_level_2_std  0.007074\n",
       "22                    consommation_level_3_max  0.007001\n",
       "23                    consommation_level_1_std  0.006983\n",
       "24                    f_t_district_target_mean  0.006914\n",
       "25                    consommation_level_4_std  0.006850\n",
       "26                    consommation_level_3_std  0.006822\n",
       "27  f_region_std_deviation_consumption_level_1  0.006516\n",
       "28                   consommation_level_4_mean  0.006462\n",
       "29                       f_t_region_fraud_rate  0.006049\n",
       "30       f_region_median_billing_frequence_per  0.006020\n",
       "31                    f_total_consumption_mean  0.005938\n",
       "32                    consommation_level_4_max  0.005714\n",
       "33                           f_index_diff_mean  0.005667\n",
       "34                   avg_consumption_per_month  0.005491\n",
       "35                                      region  0.005071\n",
       "36                   consommation_level_1_mean  0.004674\n",
       "37                    consommation_level_1_min  0.004139\n",
       "38                       f_counter_statue_mean  0.003912\n",
       "39                     f_total_consumption_min  0.003753\n",
       "40                            f_index_diff_min  0.003491\n",
       "41                f_invoive_date_median_months  0.002937\n",
       "42                    f_invoive_date_diff_days  0.002423\n",
       "43                 f_invoive_date_median_years  0.001613\n",
       "44                      f_index_cons_error_sum  0.001166\n",
       "45                          faulty_status_rate  0.000798\n",
       "46                    consommation_level_2_min  0.000711\n",
       "47                           f_counter_regions  0.000000\n",
       "48                    consommation_level_3_min  0.000000\n",
       "49                    consommation_level_4_min  0.000000"
      ]
     },
     "execution_count": 3,
     "metadata": {},
     "output_type": "execute_result"
    }
   ],
   "source": [
    "df_fraud_mutual_info.head(50)\n"
   ]
  },
  {
   "cell_type": "code",
   "execution_count": 8,
   "id": "80c12b40",
   "metadata": {},
   "outputs": [
    {
     "data": {
      "image/png": "[encoded data removed]",
      "text/plain": [
       "<Figure size 1600x1000 with 1 Axes>"
      ]
     },
     "metadata": {},
     "output_type": "display_data"
    },
    {
     "data": {
      "text/plain": [
       "<Figure size 640x480 with 0 Axes>"
      ]
     },
     "execution_count": 8,
     "metadata": {},
     "output_type": "execute_result"
    },
    {
     "data": {
      "text/plain": [
       "<Figure size 640x480 with 0 Axes>"
      ]
     },
     "metadata": {},
     "output_type": "display_data"
    }
   ],
   "source": [
    "visualize_mutual_information(df_fraud_mutual_info, top_n=9)"
   ]
  },
  {
   "cell_type": "code",
   "execution_count": 5,
   "id": "858ae635",
   "metadata": {},
   "outputs": [],
   "source": [
    "# Save the mutual information DataFrame to a CSV file\n",
    "df_fraud_mutual_info.to_csv(\"./data/mutual_information_fraud.csv\", index=False)"
   ]
  }
 ],
 "metadata": {
  "kernelspec": {
   "display_name": ".venv",
   "language": "python",
   "name": "python3"
  },
  "language_info": {
   "codemirror_mode": {
    "name": "ipython",
    "version": 3
   },
   "file_extension": ".py",
   "mimetype": "text/x-python",
   "name": "python",
   "nbconvert_exporter": "python",
   "pygments_lexer": "ipython3",
   "version": "3.11.3"
  }
 },
 "nbformat": 4,
 "nbformat_minor": 5
}
