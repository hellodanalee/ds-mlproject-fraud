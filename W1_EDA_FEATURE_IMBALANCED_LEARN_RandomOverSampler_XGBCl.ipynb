{
 "cells": [
  {
   "cell_type": "code",
   "execution_count": null,
   "id": "167297f6",
   "metadata": {},
   "outputs": [
    {
     "name": "stderr",
     "output_type": "stream",
     "text": [
      "/Users/muri/education/spiced/WaterMLOps/ds-mlproject-fraud/w1_feature_fraud_mk.py:58: DtypeWarning: Columns (4) have mixed types. Specify dtype option on import or set low_memory=False.\n",
      "  self._frames[str(p)] = pd.read_csv(p)\n"
     ]
    }
   ],
   "source": [
    "import pandas as pd\n",
    "import numpy as np\n",
    "from sklearn.metrics import confusion_matrix\n",
    "\n",
    "from xgboost import XGBClassifier\n",
    "from sklearn.model_selection import StratifiedKFold\n",
    "from sklearn.metrics import precision_score, recall_score, f1_score       \n",
    "\n",
    "from imblearn.over_sampling import RandomOverSampler\n",
    "from imblearn.pipeline import Pipeline  \n",
    "\n",
    "\n",
    "from fraud import collectAllFeaturesBaseline\n",
    "\n",
    "\n",
    "df_fraud_aggregated = collectAllFeaturesBaseline() "
   ]
  },
  {
   "cell_type": "code",
   "execution_count": 3,
   "id": "fa096155",
   "metadata": {},
   "outputs": [
    {
     "name": "stderr",
     "output_type": "stream",
     "text": [
      "/Users/muri/education/spiced/WaterMLOps/ds-mlproject-fraud/.venv/lib/python3.11/site-packages/xgboost/training.py:183: UserWarning: [14:33:19] WARNING: /private/var/folders/49/1y5t6tjd2hxgddgr4h8l86lr0000gn/T/pip-install-xwm7t153/xgboost_f76b7daff02d438b84bd67ed3f83a334/cpp_src/src/learner.cc:738: \n",
      "Parameters: { \"use_label_encoder\" } are not used.\n",
      "\n",
      "  bst.update(dtrain, iteration=i, fobj=obj)\n"
     ]
    },
    {
     "name": "stdout",
     "output_type": "stream",
     "text": [
      "--- Fold 1 ---\n",
      "Confusion Matrix:\n",
      "[[ 6976 18610]\n",
      " [   91  1422]]\n",
      "Precision (1): 0.071, Recall (1): 0.940, F1 (1): 0.132\n",
      "\n"
     ]
    },
    {
     "name": "stderr",
     "output_type": "stream",
     "text": [
      "/Users/muri/education/spiced/WaterMLOps/ds-mlproject-fraud/.venv/lib/python3.11/site-packages/xgboost/training.py:183: UserWarning: [14:33:21] WARNING: /private/var/folders/49/1y5t6tjd2hxgddgr4h8l86lr0000gn/T/pip-install-xwm7t153/xgboost_f76b7daff02d438b84bd67ed3f83a334/cpp_src/src/learner.cc:738: \n",
      "Parameters: { \"use_label_encoder\" } are not used.\n",
      "\n",
      "  bst.update(dtrain, iteration=i, fobj=obj)\n"
     ]
    },
    {
     "name": "stdout",
     "output_type": "stream",
     "text": [
      "--- Fold 2 ---\n",
      "Confusion Matrix:\n",
      "[[ 6850 18736]\n",
      " [  107  1406]]\n",
      "Precision (1): 0.070, Recall (1): 0.929, F1 (1): 0.130\n",
      "\n"
     ]
    },
    {
     "name": "stderr",
     "output_type": "stream",
     "text": [
      "/Users/muri/education/spiced/WaterMLOps/ds-mlproject-fraud/.venv/lib/python3.11/site-packages/xgboost/training.py:183: UserWarning: [14:33:23] WARNING: /private/var/folders/49/1y5t6tjd2hxgddgr4h8l86lr0000gn/T/pip-install-xwm7t153/xgboost_f76b7daff02d438b84bd67ed3f83a334/cpp_src/src/learner.cc:738: \n",
      "Parameters: { \"use_label_encoder\" } are not used.\n",
      "\n",
      "  bst.update(dtrain, iteration=i, fobj=obj)\n"
     ]
    },
    {
     "name": "stdout",
     "output_type": "stream",
     "text": [
      "--- Fold 3 ---\n",
      "Confusion Matrix:\n",
      "[[ 7011 18574]\n",
      " [   78  1436]]\n",
      "Precision (1): 0.072, Recall (1): 0.948, F1 (1): 0.133\n",
      "\n"
     ]
    },
    {
     "name": "stderr",
     "output_type": "stream",
     "text": [
      "/Users/muri/education/spiced/WaterMLOps/ds-mlproject-fraud/.venv/lib/python3.11/site-packages/xgboost/training.py:183: UserWarning: [14:33:24] WARNING: /private/var/folders/49/1y5t6tjd2hxgddgr4h8l86lr0000gn/T/pip-install-xwm7t153/xgboost_f76b7daff02d438b84bd67ed3f83a334/cpp_src/src/learner.cc:738: \n",
      "Parameters: { \"use_label_encoder\" } are not used.\n",
      "\n",
      "  bst.update(dtrain, iteration=i, fobj=obj)\n"
     ]
    },
    {
     "name": "stdout",
     "output_type": "stream",
     "text": [
      "--- Fold 4 ---\n",
      "Confusion Matrix:\n",
      "[[ 6930 18655]\n",
      " [  102  1411]]\n",
      "Precision (1): 0.070, Recall (1): 0.933, F1 (1): 0.131\n",
      "\n"
     ]
    },
    {
     "name": "stderr",
     "output_type": "stream",
     "text": [
      "/Users/muri/education/spiced/WaterMLOps/ds-mlproject-fraud/.venv/lib/python3.11/site-packages/xgboost/training.py:183: UserWarning: [14:33:26] WARNING: /private/var/folders/49/1y5t6tjd2hxgddgr4h8l86lr0000gn/T/pip-install-xwm7t153/xgboost_f76b7daff02d438b84bd67ed3f83a334/cpp_src/src/learner.cc:738: \n",
      "Parameters: { \"use_label_encoder\" } are not used.\n",
      "\n",
      "  bst.update(dtrain, iteration=i, fobj=obj)\n"
     ]
    },
    {
     "name": "stdout",
     "output_type": "stream",
     "text": [
      "--- Fold 5 ---\n",
      "Confusion Matrix:\n",
      "[[ 7161 18424]\n",
      " [  105  1408]]\n",
      "Precision (1): 0.071, Recall (1): 0.931, F1 (1): 0.132\n",
      "\n",
      "=== Durchschnitt über 5 Stratified Folds (positive Klasse) ===\n",
      "Precision: 0.071\n",
      "Recall:    0.936\n",
      "F1-score:  0.132\n"
     ]
    }
   ],
   "source": [
    "\n",
    "\n",
    "# 0) Daten vorbereiten\n",
    "X = df_fraud_aggregated.drop(columns=[\"target\", \"client_id\"]).fillna(0)\n",
    "y = df_fraud_aggregated[\"target\"]\n",
    "\n",
    "# 1) Stratified KFold anlegen\n",
    "skf = StratifiedKFold(n_splits=5, shuffle=True, random_state=42)\n",
    "\n",
    "# 2) Listen für Kennzahlen\n",
    "precisions, recalls, f1s = [], [], []\n",
    "\n",
    "# 3) Durch die Folds iterieren\n",
    "for fold, (train_idx, test_idx) in enumerate(skf.split(X, y), start=1):\n",
    "    X_train, X_test = X.iloc[train_idx], X.iloc[test_idx]\n",
    "    y_train, y_test = y.iloc[train_idx], y.iloc[test_idx]\n",
    "\n",
    "    # class imbalance weight für XGBoost\n",
    "    scale_pos_weight = (y_train == 0).sum() / (y_train == 1).sum()\n",
    "\n",
    "    # Pipeline mit ROS + XGBClassifier\n",
    "    pipeline = Pipeline([\n",
    "        (\"ros\", RandomOverSampler(random_state=42)),\n",
    "        (\"xgb\", XGBClassifier(\n",
    "            use_label_encoder=False,\n",
    "            eval_metric=\"logloss\",\n",
    "            n_estimators=150,\n",
    "            max_depth=6,\n",
    "            learning_rate=0.1,\n",
    "            subsample=0.8,\n",
    "            colsample_bytree=0.8,\n",
    "            scale_pos_weight=scale_pos_weight,\n",
    "            random_state=42\n",
    "        ))\n",
    "    ])\n",
    "\n",
    "    # Trainieren & Vorhersagen\n",
    "    pipeline.fit(X_train, y_train)\n",
    "    y_pred = pipeline.predict(X_test)\n",
    "\n",
    "    # Confusion Matrix\n",
    "    cm = confusion_matrix(y_test, y_pred)\n",
    "    print(f\"--- Fold {fold} ---\")\n",
    "    print(\"Confusion Matrix:\")\n",
    "    print(cm)\n",
    "\n",
    "    # Einzel-Metriken berechnen (pos_label=1)\n",
    "    p = precision_score(y_test, y_pred, pos_label=1, zero_division=0)\n",
    "    r = recall_score(y_test, y_pred, pos_label=1, zero_division=0)\n",
    "    f = f1_score(y_test, y_pred, pos_label=1, zero_division=0)\n",
    "    print(f\"Precision (1): {p:.3f}, Recall (1): {r:.3f}, F1 (1): {f:.3f}\\n\")\n",
    "\n",
    "    precisions.append(p)\n",
    "    recalls.append(r)\n",
    "    f1s.append(f)\n",
    "\n",
    "# 4) Durchschnitt über alle Folds\n",
    "print(\"=== Durchschnitt über 5 Stratified Folds (positive Klasse) ===\")\n",
    "print(f\"Precision: {np.mean(precisions):.3f}\")\n",
    "print(f\"Recall:    {np.mean(recalls):.3f}\")\n",
    "print(f\"F1-score:  {np.mean(f1s):.3f}\")"
   ]
  }
 ],
 "metadata": {
  "kernelspec": {
   "display_name": ".venv",
   "language": "python",
   "name": "python3"
  },
  "language_info": {
   "codemirror_mode": {
    "name": "ipython",
    "version": 3
   },
   "file_extension": ".py",
   "mimetype": "text/x-python",
   "name": "python",
   "nbconvert_exporter": "python",
   "pygments_lexer": "ipython3",
   "version": "3.11.3"
  }
 },
 "nbformat": 4,
 "nbformat_minor": 5
}
