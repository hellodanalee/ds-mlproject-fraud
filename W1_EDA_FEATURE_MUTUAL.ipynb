{
 "cells": [
  {
   "cell_type": "code",
   "execution_count": 1,
   "id": "167297f6",
   "metadata": {},
   "outputs": [],
   "source": [
    "from w1_feature_fraud_mk import Fraud\n",
    "# Murat\n",
    "from w1_feature_fraud_mk import  left_join_on, add_invoice_frequency_features, add_counter_statue_error_occured_features\n",
    "from w1_feature_fraud_mk import add_counter_regions_features, add_region_fraud_rate_features\n",
    "from w1_feature_fraud_mk import add_median_billing_frequence_per_region, add_sdt_dev_consumption_region\n",
    "# Dana\n",
    "from w1_feature_fraud_mk import calculate_mutual_information, visualize_mutual_information, add_consump_agg"
   ]
  },
  {
   "cell_type": "code",
   "execution_count": 2,
   "id": "0c942cdd",
   "metadata": {},
   "outputs": [
    {
     "name": "stderr",
     "output_type": "stream",
     "text": [
      "/Users/muri/education/spiced/WaterMLOps/ds-mlproject-fraud/w1_feature_fraud_mk.py:58: DtypeWarning: Columns (4) have mixed types. Specify dtype option on import or set low_memory=False.\n",
      "  self._frames[str(p)] = pd.read_csv(p)\n"
     ]
    }
   ],
   "source": [
    "fraud = Fraud([\"./data/train/client_train.csv\", \"./data/train/invoice_train.csv\"], target_column=\"target\")\n",
    "client  = fraud[\"./data/train/client_train.csv\"]\n",
    "invoice = fraud[\"./data/train/invoice_train.csv\"]\n",
    "fraud_merged = left_join_on(\"client_id\", client, invoice)"
   ]
  },
  {
   "cell_type": "code",
   "execution_count": null,
   "id": "ab99b400",
   "metadata": {},
   "outputs": [],
   "source": [
    "df_fraud_aggregated = fraud.get_target()\n",
    "df_fraud_aggregated = add_invoice_frequency_features(fraud_merged, df_fraud_aggregated)\n",
    "df_fraud_aggregated = add_counter_statue_error_occured_features(fraud_merged, df_fraud_aggregated)\n",
    "df_fraud_aggregated = add_counter_regions_features(fraud_merged, df_fraud_aggregated)\n",
    "df_fraud_aggregated = add_region_fraud_rate_features(fraud_merged, df_fraud_aggregated)\n",
    "df_fraud_aggregated = add_median_billing_frequence_per_region(fraud_merged, df_fraud_aggregated)\n",
    "df_fraud_aggregated = add_sdt_dev_consumption_region(fraud_merged, df_fraud_aggregated, postfix_consumption=\"_level_1\")\n",
    "df_fraud_aggregated = add_sdt_dev_consumption_region(fraud_merged, df_fraud_aggregated, postfix_consumption=\"_level_2\")\n",
    "df_fraud_aggregated = add_sdt_dev_consumption_region(fraud_merged, df_fraud_aggregated, postfix_consumption=\"_level_3\")\n",
    "df_fraud_aggregated = add_sdt_dev_consumption_region(fraud_merged, df_fraud_aggregated, postfix_consumption=\"_level_4\")\n",
    "df_fraud_aggregated = add_consump_agg(df_fraud_aggregated, invoice)"
   ]
  },
  {
   "cell_type": "code",
   "execution_count": 4,
   "id": "8f2a9491",
   "metadata": {},
   "outputs": [
    {
     "data": {
      "application/vnd.microsoft.datawrangler.viewer.v0+json": {
       "columns": [
        {
         "name": "index",
         "rawType": "int64",
         "type": "integer"
        },
        {
         "name": "client_id",
         "rawType": "object",
         "type": "string"
        },
        {
         "name": "target",
         "rawType": "float64",
         "type": "float"
        },
        {
         "name": "f_invoive_date_diff_days",
         "rawType": "float64",
         "type": "float"
        },
        {
         "name": "f_invoive_date_median_months",
         "rawType": "float64",
         "type": "float"
        },
        {
         "name": "f_invoive_date_median_years",
         "rawType": "float64",
         "type": "float"
        },
        {
         "name": "f_counter_statue_error_occured",
         "rawType": "int64",
         "type": "integer"
        },
        {
         "name": "f_counter_regions",
         "rawType": "int64",
         "type": "integer"
        },
        {
         "name": "f_region_fraud_rate",
         "rawType": "float64",
         "type": "float"
        },
        {
         "name": "f_region_median_billing_frequence_per",
         "rawType": "float64",
         "type": "float"
        },
        {
         "name": "f_region_std_deviation_consumption_level_1",
         "rawType": "float64",
         "type": "float"
        },
        {
         "name": "f_region_std_deviation_consumption_level_2",
         "rawType": "float64",
         "type": "float"
        },
        {
         "name": "f_region_std_deviation_consumption_level_3",
         "rawType": "float64",
         "type": "float"
        },
        {
         "name": "f_region_std_deviation_consumption_level_4",
         "rawType": "float64",
         "type": "float"
        }
       ],
       "ref": "90877fb2-19df-4f67-9969-7fe163a41207",
       "rows": [
        [
         "0",
         "train_Client_0",
         "0.0",
         "120.5",
         "3.9586070959264124",
         "0.32991101984941823",
         "0",
         "0",
         "0.04823673765604133",
         "93.0",
         "616.7172101290936",
         "2003.4796737594772",
         "222.93749028257517",
         "1093.9907422860574"
        ],
        [
         "1",
         "train_Client_1",
         "0.0",
         "121.5",
         "3.991458607095926",
         "0.3326488706365503",
         "0",
         "0",
         "0.0875432525951557",
         "84.0",
         "452.37512659050907",
         "1877.0016541883933",
         "132.70563842364396",
         "562.2915818769894"
        ],
        [
         "2",
         "train_Client_10",
         "0.0",
         "147.0",
         "4.829172141918528",
         "0.4024640657084189",
         "0",
         "0",
         "0.04424722822720319",
         "96.0",
         "449.1674804031829",
         "532.6228455920584",
         "101.01741997601077",
         "472.91285196367215"
        ],
        [
         "3",
         "train_Client_100",
         "0.0",
         "121.0",
         "3.9750328515111693",
         "0.33127994524298426",
         "0",
         "0",
         "0.07545500743445446",
         "57.0",
         "589.0001499677863",
         "830.3261072120647",
         "144.13530382717155",
         "692.6199680342567"
        ],
        [
         "4",
         "train_Client_1000",
         "0.0",
         "124.0",
         "4.073587385019711",
         "0.3394934976043806",
         "0",
         "0",
         "0.08385620320693522",
         "95.0",
         "455.3313502728255",
         "572.0969114190649",
         "108.25419410722995",
         "504.79689822978384"
        ]
       ],
       "shape": {
        "columns": 13,
        "rows": 5
       }
      },
      "text/html": [
       "<div>\n",
       "<style scoped>\n",
       "    .dataframe tbody tr th:only-of-type {\n",
       "        vertical-align: middle;\n",
       "    }\n",
       "\n",
       "    .dataframe tbody tr th {\n",
       "        vertical-align: top;\n",
       "    }\n",
       "\n",
       "    .dataframe thead th {\n",
       "        text-align: right;\n",
       "    }\n",
       "</style>\n",
       "<table border=\"1\" class=\"dataframe\">\n",
       "  <thead>\n",
       "    <tr style=\"text-align: right;\">\n",
       "      <th></th>\n",
       "      <th>client_id</th>\n",
       "      <th>target</th>\n",
       "      <th>f_invoive_date_diff_days</th>\n",
       "      <th>f_invoive_date_median_months</th>\n",
       "      <th>f_invoive_date_median_years</th>\n",
       "      <th>f_counter_statue_error_occured</th>\n",
       "      <th>f_counter_regions</th>\n",
       "      <th>f_region_fraud_rate</th>\n",
       "      <th>f_region_median_billing_frequence_per</th>\n",
       "      <th>f_region_std_deviation_consumption_level_1</th>\n",
       "      <th>f_region_std_deviation_consumption_level_2</th>\n",
       "      <th>f_region_std_deviation_consumption_level_3</th>\n",
       "      <th>f_region_std_deviation_consumption_level_4</th>\n",
       "    </tr>\n",
       "  </thead>\n",
       "  <tbody>\n",
       "    <tr>\n",
       "      <th>0</th>\n",
       "      <td>train_Client_0</td>\n",
       "      <td>0.0</td>\n",
       "      <td>120.5</td>\n",
       "      <td>3.958607</td>\n",
       "      <td>0.329911</td>\n",
       "      <td>0</td>\n",
       "      <td>0</td>\n",
       "      <td>0.048237</td>\n",
       "      <td>93.0</td>\n",
       "      <td>616.717210</td>\n",
       "      <td>2003.479674</td>\n",
       "      <td>222.937490</td>\n",
       "      <td>1093.990742</td>\n",
       "    </tr>\n",
       "    <tr>\n",
       "      <th>1</th>\n",
       "      <td>train_Client_1</td>\n",
       "      <td>0.0</td>\n",
       "      <td>121.5</td>\n",
       "      <td>3.991459</td>\n",
       "      <td>0.332649</td>\n",
       "      <td>0</td>\n",
       "      <td>0</td>\n",
       "      <td>0.087543</td>\n",
       "      <td>84.0</td>\n",
       "      <td>452.375127</td>\n",
       "      <td>1877.001654</td>\n",
       "      <td>132.705638</td>\n",
       "      <td>562.291582</td>\n",
       "    </tr>\n",
       "    <tr>\n",
       "      <th>2</th>\n",
       "      <td>train_Client_10</td>\n",
       "      <td>0.0</td>\n",
       "      <td>147.0</td>\n",
       "      <td>4.829172</td>\n",
       "      <td>0.402464</td>\n",
       "      <td>0</td>\n",
       "      <td>0</td>\n",
       "      <td>0.044247</td>\n",
       "      <td>96.0</td>\n",
       "      <td>449.167480</td>\n",
       "      <td>532.622846</td>\n",
       "      <td>101.017420</td>\n",
       "      <td>472.912852</td>\n",
       "    </tr>\n",
       "    <tr>\n",
       "      <th>3</th>\n",
       "      <td>train_Client_100</td>\n",
       "      <td>0.0</td>\n",
       "      <td>121.0</td>\n",
       "      <td>3.975033</td>\n",
       "      <td>0.331280</td>\n",
       "      <td>0</td>\n",
       "      <td>0</td>\n",
       "      <td>0.075455</td>\n",
       "      <td>57.0</td>\n",
       "      <td>589.000150</td>\n",
       "      <td>830.326107</td>\n",
       "      <td>144.135304</td>\n",
       "      <td>692.619968</td>\n",
       "    </tr>\n",
       "    <tr>\n",
       "      <th>4</th>\n",
       "      <td>train_Client_1000</td>\n",
       "      <td>0.0</td>\n",
       "      <td>124.0</td>\n",
       "      <td>4.073587</td>\n",
       "      <td>0.339493</td>\n",
       "      <td>0</td>\n",
       "      <td>0</td>\n",
       "      <td>0.083856</td>\n",
       "      <td>95.0</td>\n",
       "      <td>455.331350</td>\n",
       "      <td>572.096911</td>\n",
       "      <td>108.254194</td>\n",
       "      <td>504.796898</td>\n",
       "    </tr>\n",
       "  </tbody>\n",
       "</table>\n",
       "</div>"
      ],
      "text/plain": [
       "           client_id  target  f_invoive_date_diff_days   \n",
       "0     train_Client_0     0.0                     120.5  \\\n",
       "1     train_Client_1     0.0                     121.5   \n",
       "2    train_Client_10     0.0                     147.0   \n",
       "3   train_Client_100     0.0                     121.0   \n",
       "4  train_Client_1000     0.0                     124.0   \n",
       "\n",
       "   f_invoive_date_median_months  f_invoive_date_median_years   \n",
       "0                      3.958607                     0.329911  \\\n",
       "1                      3.991459                     0.332649   \n",
       "2                      4.829172                     0.402464   \n",
       "3                      3.975033                     0.331280   \n",
       "4                      4.073587                     0.339493   \n",
       "\n",
       "   f_counter_statue_error_occured  f_counter_regions  f_region_fraud_rate   \n",
       "0                               0                  0             0.048237  \\\n",
       "1                               0                  0             0.087543   \n",
       "2                               0                  0             0.044247   \n",
       "3                               0                  0             0.075455   \n",
       "4                               0                  0             0.083856   \n",
       "\n",
       "   f_region_median_billing_frequence_per   \n",
       "0                                   93.0  \\\n",
       "1                                   84.0   \n",
       "2                                   96.0   \n",
       "3                                   57.0   \n",
       "4                                   95.0   \n",
       "\n",
       "   f_region_std_deviation_consumption_level_1   \n",
       "0                                  616.717210  \\\n",
       "1                                  452.375127   \n",
       "2                                  449.167480   \n",
       "3                                  589.000150   \n",
       "4                                  455.331350   \n",
       "\n",
       "   f_region_std_deviation_consumption_level_2   \n",
       "0                                 2003.479674  \\\n",
       "1                                 1877.001654   \n",
       "2                                  532.622846   \n",
       "3                                  830.326107   \n",
       "4                                  572.096911   \n",
       "\n",
       "   f_region_std_deviation_consumption_level_3   \n",
       "0                                  222.937490  \\\n",
       "1                                  132.705638   \n",
       "2                                  101.017420   \n",
       "3                                  144.135304   \n",
       "4                                  108.254194   \n",
       "\n",
       "   f_region_std_deviation_consumption_level_4  \n",
       "0                                 1093.990742  \n",
       "1                                  562.291582  \n",
       "2                                  472.912852  \n",
       "3                                  692.619968  \n",
       "4                                  504.796898  "
      ]
     },
     "execution_count": 4,
     "metadata": {},
     "output_type": "execute_result"
    }
   ],
   "source": [
    "df_fraud_aggregated.head()"
   ]
  },
  {
   "cell_type": "code",
   "execution_count": 5,
   "id": "e943ad2f",
   "metadata": {},
   "outputs": [
    {
     "data": {
      "application/vnd.microsoft.datawrangler.viewer.v0+json": {
       "columns": [
        {
         "name": "index",
         "rawType": "int64",
         "type": "integer"
        },
        {
         "name": "client_id",
         "rawType": "object",
         "type": "string"
        },
        {
         "name": "target",
         "rawType": "float64",
         "type": "float"
        },
        {
         "name": "f_invoive_date_diff_days",
         "rawType": "float64",
         "type": "float"
        },
        {
         "name": "f_invoive_date_median_months",
         "rawType": "float64",
         "type": "float"
        },
        {
         "name": "f_invoive_date_median_years",
         "rawType": "float64",
         "type": "float"
        },
        {
         "name": "f_counter_statue_error_occured",
         "rawType": "int64",
         "type": "integer"
        },
        {
         "name": "f_counter_regions",
         "rawType": "int64",
         "type": "integer"
        },
        {
         "name": "f_region_fraud_rate",
         "rawType": "float64",
         "type": "float"
        },
        {
         "name": "f_region_median_billing_frequence_per",
         "rawType": "float64",
         "type": "float"
        },
        {
         "name": "f_region_std_deviation_consumption_level_1",
         "rawType": "float64",
         "type": "float"
        },
        {
         "name": "f_region_std_deviation_consumption_level_2",
         "rawType": "float64",
         "type": "float"
        },
        {
         "name": "f_region_std_deviation_consumption_level_3",
         "rawType": "float64",
         "type": "float"
        },
        {
         "name": "f_region_std_deviation_consumption_level_4",
         "rawType": "float64",
         "type": "float"
        }
       ],
       "ref": "44991d28-582e-4822-888a-a5ca5eca33e8",
       "rows": [
        [
         "0",
         "train_Client_0",
         "0.0",
         "120.5",
         "3.9586070959264124",
         "0.32991101984941823",
         "0",
         "0",
         "0.04823673765604133",
         "93.0",
         "616.7172101290936",
         "2003.4796737594772",
         "222.93749028257517",
         "1093.9907422860574"
        ],
        [
         "1",
         "train_Client_1",
         "0.0",
         "121.5",
         "3.991458607095926",
         "0.3326488706365503",
         "0",
         "0",
         "0.0875432525951557",
         "84.0",
         "452.37512659050907",
         "1877.0016541883933",
         "132.70563842364396",
         "562.2915818769894"
        ],
        [
         "2",
         "train_Client_10",
         "0.0",
         "147.0",
         "4.829172141918528",
         "0.4024640657084189",
         "0",
         "0",
         "0.04424722822720319",
         "96.0",
         "449.1674804031829",
         "532.6228455920584",
         "101.01741997601077",
         "472.91285196367215"
        ],
        [
         "3",
         "train_Client_100",
         "0.0",
         "121.0",
         "3.9750328515111693",
         "0.33127994524298426",
         "0",
         "0",
         "0.07545500743445446",
         "57.0",
         "589.0001499677863",
         "830.3261072120647",
         "144.13530382717155",
         "692.6199680342567"
        ],
        [
         "4",
         "train_Client_1000",
         "0.0",
         "124.0",
         "4.073587385019711",
         "0.3394934976043806",
         "0",
         "0",
         "0.08385620320693522",
         "95.0",
         "455.3313502728255",
         "572.0969114190649",
         "108.25419410722995",
         "504.79689822978384"
        ]
       ],
       "shape": {
        "columns": 13,
        "rows": 5
       }
      },
      "text/html": [
       "<div>\n",
       "<style scoped>\n",
       "    .dataframe tbody tr th:only-of-type {\n",
       "        vertical-align: middle;\n",
       "    }\n",
       "\n",
       "    .dataframe tbody tr th {\n",
       "        vertical-align: top;\n",
       "    }\n",
       "\n",
       "    .dataframe thead th {\n",
       "        text-align: right;\n",
       "    }\n",
       "</style>\n",
       "<table border=\"1\" class=\"dataframe\">\n",
       "  <thead>\n",
       "    <tr style=\"text-align: right;\">\n",
       "      <th></th>\n",
       "      <th>client_id</th>\n",
       "      <th>target</th>\n",
       "      <th>f_invoive_date_diff_days</th>\n",
       "      <th>f_invoive_date_median_months</th>\n",
       "      <th>f_invoive_date_median_years</th>\n",
       "      <th>f_counter_statue_error_occured</th>\n",
       "      <th>f_counter_regions</th>\n",
       "      <th>f_region_fraud_rate</th>\n",
       "      <th>f_region_median_billing_frequence_per</th>\n",
       "      <th>f_region_std_deviation_consumption_level_1</th>\n",
       "      <th>f_region_std_deviation_consumption_level_2</th>\n",
       "      <th>f_region_std_deviation_consumption_level_3</th>\n",
       "      <th>f_region_std_deviation_consumption_level_4</th>\n",
       "    </tr>\n",
       "  </thead>\n",
       "  <tbody>\n",
       "    <tr>\n",
       "      <th>0</th>\n",
       "      <td>train_Client_0</td>\n",
       "      <td>0.0</td>\n",
       "      <td>120.5</td>\n",
       "      <td>3.958607</td>\n",
       "      <td>0.329911</td>\n",
       "      <td>0</td>\n",
       "      <td>0</td>\n",
       "      <td>0.048237</td>\n",
       "      <td>93.0</td>\n",
       "      <td>616.717210</td>\n",
       "      <td>2003.479674</td>\n",
       "      <td>222.937490</td>\n",
       "      <td>1093.990742</td>\n",
       "    </tr>\n",
       "    <tr>\n",
       "      <th>1</th>\n",
       "      <td>train_Client_1</td>\n",
       "      <td>0.0</td>\n",
       "      <td>121.5</td>\n",
       "      <td>3.991459</td>\n",
       "      <td>0.332649</td>\n",
       "      <td>0</td>\n",
       "      <td>0</td>\n",
       "      <td>0.087543</td>\n",
       "      <td>84.0</td>\n",
       "      <td>452.375127</td>\n",
       "      <td>1877.001654</td>\n",
       "      <td>132.705638</td>\n",
       "      <td>562.291582</td>\n",
       "    </tr>\n",
       "    <tr>\n",
       "      <th>2</th>\n",
       "      <td>train_Client_10</td>\n",
       "      <td>0.0</td>\n",
       "      <td>147.0</td>\n",
       "      <td>4.829172</td>\n",
       "      <td>0.402464</td>\n",
       "      <td>0</td>\n",
       "      <td>0</td>\n",
       "      <td>0.044247</td>\n",
       "      <td>96.0</td>\n",
       "      <td>449.167480</td>\n",
       "      <td>532.622846</td>\n",
       "      <td>101.017420</td>\n",
       "      <td>472.912852</td>\n",
       "    </tr>\n",
       "    <tr>\n",
       "      <th>3</th>\n",
       "      <td>train_Client_100</td>\n",
       "      <td>0.0</td>\n",
       "      <td>121.0</td>\n",
       "      <td>3.975033</td>\n",
       "      <td>0.331280</td>\n",
       "      <td>0</td>\n",
       "      <td>0</td>\n",
       "      <td>0.075455</td>\n",
       "      <td>57.0</td>\n",
       "      <td>589.000150</td>\n",
       "      <td>830.326107</td>\n",
       "      <td>144.135304</td>\n",
       "      <td>692.619968</td>\n",
       "    </tr>\n",
       "    <tr>\n",
       "      <th>4</th>\n",
       "      <td>train_Client_1000</td>\n",
       "      <td>0.0</td>\n",
       "      <td>124.0</td>\n",
       "      <td>4.073587</td>\n",
       "      <td>0.339493</td>\n",
       "      <td>0</td>\n",
       "      <td>0</td>\n",
       "      <td>0.083856</td>\n",
       "      <td>95.0</td>\n",
       "      <td>455.331350</td>\n",
       "      <td>572.096911</td>\n",
       "      <td>108.254194</td>\n",
       "      <td>504.796898</td>\n",
       "    </tr>\n",
       "  </tbody>\n",
       "</table>\n",
       "</div>"
      ],
      "text/plain": [
       "           client_id  target  f_invoive_date_diff_days   \n",
       "0     train_Client_0     0.0                     120.5  \\\n",
       "1     train_Client_1     0.0                     121.5   \n",
       "2    train_Client_10     0.0                     147.0   \n",
       "3   train_Client_100     0.0                     121.0   \n",
       "4  train_Client_1000     0.0                     124.0   \n",
       "\n",
       "   f_invoive_date_median_months  f_invoive_date_median_years   \n",
       "0                      3.958607                     0.329911  \\\n",
       "1                      3.991459                     0.332649   \n",
       "2                      4.829172                     0.402464   \n",
       "3                      3.975033                     0.331280   \n",
       "4                      4.073587                     0.339493   \n",
       "\n",
       "   f_counter_statue_error_occured  f_counter_regions  f_region_fraud_rate   \n",
       "0                               0                  0             0.048237  \\\n",
       "1                               0                  0             0.087543   \n",
       "2                               0                  0             0.044247   \n",
       "3                               0                  0             0.075455   \n",
       "4                               0                  0             0.083856   \n",
       "\n",
       "   f_region_median_billing_frequence_per   \n",
       "0                                   93.0  \\\n",
       "1                                   84.0   \n",
       "2                                   96.0   \n",
       "3                                   57.0   \n",
       "4                                   95.0   \n",
       "\n",
       "   f_region_std_deviation_consumption_level_1   \n",
       "0                                  616.717210  \\\n",
       "1                                  452.375127   \n",
       "2                                  449.167480   \n",
       "3                                  589.000150   \n",
       "4                                  455.331350   \n",
       "\n",
       "   f_region_std_deviation_consumption_level_2   \n",
       "0                                 2003.479674  \\\n",
       "1                                 1877.001654   \n",
       "2                                  532.622846   \n",
       "3                                  830.326107   \n",
       "4                                  572.096911   \n",
       "\n",
       "   f_region_std_deviation_consumption_level_3   \n",
       "0                                  222.937490  \\\n",
       "1                                  132.705638   \n",
       "2                                  101.017420   \n",
       "3                                  144.135304   \n",
       "4                                  108.254194   \n",
       "\n",
       "   f_region_std_deviation_consumption_level_4  \n",
       "0                                 1093.990742  \n",
       "1                                  562.291582  \n",
       "2                                  472.912852  \n",
       "3                                  692.619968  \n",
       "4                                  504.796898  "
      ]
     },
     "execution_count": 5,
     "metadata": {},
     "output_type": "execute_result"
    }
   ],
   "source": [
    "df_fraud_aggregated.head()"
   ]
  },
  {
   "cell_type": "code",
   "execution_count": 6,
   "id": "5db4ec53",
   "metadata": {},
   "outputs": [],
   "source": [
    "df_fraud_mutual_info = calculate_mutual_information(df_fraud_aggregated, target_col=\"target\", exclude_cols=[\"client_id\", \"target\"])"
   ]
  },
  {
   "cell_type": "code",
   "execution_count": 7,
   "id": "ece5b030",
   "metadata": {},
   "outputs": [
    {
     "data": {
      "application/vnd.microsoft.datawrangler.viewer.v0+json": {
       "columns": [
        {
         "name": "index",
         "rawType": "int64",
         "type": "integer"
        },
        {
         "name": "Feature",
         "rawType": "object",
         "type": "string"
        },
        {
         "name": "MI_Score",
         "rawType": "float64",
         "type": "float"
        }
       ],
       "ref": "3fc4d186-8833-4e9b-acd2-d5a6ee057234",
       "rows": [
        [
         "0",
         "f_counter_statue_error_occured",
         "0.008484651276225552"
        ],
        [
         "1",
         "f_region_std_deviation_consumption_level_2",
         "0.008148329217815053"
        ],
        [
         "2",
         "f_region_std_deviation_consumption_level_3",
         "0.00793220138395112"
        ],
        [
         "3",
         "f_region_std_deviation_consumption_level_4",
         "0.007526085415955341"
        ],
        [
         "4",
         "f_region_median_billing_frequence_per",
         "0.007009921563272403"
        ],
        [
         "5",
         "f_region_std_deviation_consumption_level_1",
         "0.006631163111251448"
        ],
        [
         "6",
         "f_region_fraud_rate",
         "0.005888792258372133"
        ],
        [
         "7",
         "f_invoive_date_diff_days",
         "0.0025437112569062226"
        ],
        [
         "8",
         "f_invoive_date_median_months",
         "0.0022605945964677687"
        ],
        [
         "9",
         "f_invoive_date_median_years",
         "0.0016032337185234447"
        ],
        [
         "10",
         "f_counter_regions",
         "0.0004160157809067755"
        ]
       ],
       "shape": {
        "columns": 2,
        "rows": 11
       }
      },
      "text/html": [
       "<div>\n",
       "<style scoped>\n",
       "    .dataframe tbody tr th:only-of-type {\n",
       "        vertical-align: middle;\n",
       "    }\n",
       "\n",
       "    .dataframe tbody tr th {\n",
       "        vertical-align: top;\n",
       "    }\n",
       "\n",
       "    .dataframe thead th {\n",
       "        text-align: right;\n",
       "    }\n",
       "</style>\n",
       "<table border=\"1\" class=\"dataframe\">\n",
       "  <thead>\n",
       "    <tr style=\"text-align: right;\">\n",
       "      <th></th>\n",
       "      <th>Feature</th>\n",
       "      <th>MI_Score</th>\n",
       "    </tr>\n",
       "  </thead>\n",
       "  <tbody>\n",
       "    <tr>\n",
       "      <th>0</th>\n",
       "      <td>f_counter_statue_error_occured</td>\n",
       "      <td>0.008485</td>\n",
       "    </tr>\n",
       "    <tr>\n",
       "      <th>1</th>\n",
       "      <td>f_region_std_deviation_consumption_level_2</td>\n",
       "      <td>0.008148</td>\n",
       "    </tr>\n",
       "    <tr>\n",
       "      <th>2</th>\n",
       "      <td>f_region_std_deviation_consumption_level_3</td>\n",
       "      <td>0.007932</td>\n",
       "    </tr>\n",
       "    <tr>\n",
       "      <th>3</th>\n",
       "      <td>f_region_std_deviation_consumption_level_4</td>\n",
       "      <td>0.007526</td>\n",
       "    </tr>\n",
       "    <tr>\n",
       "      <th>4</th>\n",
       "      <td>f_region_median_billing_frequence_per</td>\n",
       "      <td>0.007010</td>\n",
       "    </tr>\n",
       "    <tr>\n",
       "      <th>5</th>\n",
       "      <td>f_region_std_deviation_consumption_level_1</td>\n",
       "      <td>0.006631</td>\n",
       "    </tr>\n",
       "    <tr>\n",
       "      <th>6</th>\n",
       "      <td>f_region_fraud_rate</td>\n",
       "      <td>0.005889</td>\n",
       "    </tr>\n",
       "    <tr>\n",
       "      <th>7</th>\n",
       "      <td>f_invoive_date_diff_days</td>\n",
       "      <td>0.002544</td>\n",
       "    </tr>\n",
       "    <tr>\n",
       "      <th>8</th>\n",
       "      <td>f_invoive_date_median_months</td>\n",
       "      <td>0.002261</td>\n",
       "    </tr>\n",
       "    <tr>\n",
       "      <th>9</th>\n",
       "      <td>f_invoive_date_median_years</td>\n",
       "      <td>0.001603</td>\n",
       "    </tr>\n",
       "    <tr>\n",
       "      <th>10</th>\n",
       "      <td>f_counter_regions</td>\n",
       "      <td>0.000416</td>\n",
       "    </tr>\n",
       "  </tbody>\n",
       "</table>\n",
       "</div>"
      ],
      "text/plain": [
       "                                       Feature  MI_Score\n",
       "0               f_counter_statue_error_occured  0.008485\n",
       "1   f_region_std_deviation_consumption_level_2  0.008148\n",
       "2   f_region_std_deviation_consumption_level_3  0.007932\n",
       "3   f_region_std_deviation_consumption_level_4  0.007526\n",
       "4        f_region_median_billing_frequence_per  0.007010\n",
       "5   f_region_std_deviation_consumption_level_1  0.006631\n",
       "6                          f_region_fraud_rate  0.005889\n",
       "7                     f_invoive_date_diff_days  0.002544\n",
       "8                 f_invoive_date_median_months  0.002261\n",
       "9                  f_invoive_date_median_years  0.001603\n",
       "10                           f_counter_regions  0.000416"
      ]
     },
     "execution_count": 7,
     "metadata": {},
     "output_type": "execute_result"
    }
   ],
   "source": [
    "df_fraud_mutual_info"
   ]
  },
  {
   "cell_type": "code",
   "execution_count": null,
   "id": "676fc106",
   "metadata": {},
   "outputs": [],
   "source": []
  },
  {
   "cell_type": "code",
   "execution_count": 8,
   "id": "80c12b40",
   "metadata": {},
   "outputs": [
    {
     "data": {
      "image/png": "[encoded data removed]",
      "text/plain": [
       "<Figure size 1200x1000 with 1 Axes>"
      ]
     },
     "metadata": {},
     "output_type": "display_data"
    },
    {
     "data": {
      "text/plain": [
       "<Figure size 640x480 with 0 Axes>"
      ]
     },
     "execution_count": 8,
     "metadata": {},
     "output_type": "execute_result"
    },
    {
     "data": {
      "text/plain": [
       "<Figure size 640x480 with 0 Axes>"
      ]
     },
     "metadata": {},
     "output_type": "display_data"
    }
   ],
   "source": [
    "visualize_mutual_information(df_fraud_mutual_info, top_n=100)"
   ]
  }
 ],
 "metadata": {
  "kernelspec": {
   "display_name": ".venv",
   "language": "python",
   "name": "python3"
  },
  "language_info": {
   "codemirror_mode": {
    "name": "ipython",
    "version": 3
   },
   "file_extension": ".py",
   "mimetype": "text/x-python",
   "name": "python",
   "nbconvert_exporter": "python",
   "pygments_lexer": "ipython3",
   "version": "3.11.3"
  }
 },
 "nbformat": 4,
 "nbformat_minor": 5
}
